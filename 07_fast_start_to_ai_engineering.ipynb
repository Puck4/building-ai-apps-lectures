{
 "cells": [
  {
   "cell_type": "markdown",
   "id": "3584a41a",
   "metadata": {},
   "source": [
    "# Fast Start to AI Engineering\n",
    "* **Created by:** Eric Martinez\n",
    "* **For:** 3351 - AI-Powered Applications\n",
    "* **At:** University of Texas Rio-Grande Valley"
   ]
  },
  {
   "cell_type": "markdown",
   "id": "c37aad7a",
   "metadata": {},
   "source": [
    "## Essential Components"
   ]
  },
  {
   "cell_type": "markdown",
   "id": "56954d42",
   "metadata": {},
   "source": [
    "- **Task:** Identify the task you are trying to solve. What are the desired inputs? What are the desired outputs\n",
    "- **Data:** Identify how those inputs make their way to your system once deployed. Identify where your evaluation data will come from.\n",
    "- **Metrics:** Identify the key metrics for evaluating the performance of your solution\n",
    "- **Model:** What model will be used to solve this problem?"
   ]
  },
  {
   "cell_type": "markdown",
   "id": "04c25eb0",
   "metadata": {},
   "source": [
    "## Fast Feedback Loops\n",
    "\n",
    "- Optimize for rapid iteration cycles, early\n",
    "- **Do:** prove your system works on a tiny amount of data and examples\n",
    "- **Do:** using your eyeballs is an underrated metric early on\n",
    "- **Do:** try get get metrics and evaluation up and running early\n",
    "- **Don't**: try to work with an entire large scale dataset at the beginning\n",
    "- **Don't**: try to come up with the best possible prompting and solution until you have a working baseline solution"
   ]
  },
  {
   "cell_type": "markdown",
   "id": "334121e9",
   "metadata": {},
   "source": [
    "## Task Identification"
   ]
  },
  {
   "cell_type": "markdown",
   "id": "d4d25669",
   "metadata": {},
   "source": [
    "#### Define the problem you are trying to solve.\n",
    "\n",
    "- What are the inputs (and data types)\n",
    "- What are the outputs (and data types)\n",
    "- What does an example input/output combination look like?"
   ]
  },
  {
   "cell_type": "markdown",
   "id": "92c37527",
   "metadata": {},
   "source": [
    "#### Does it fall between one of the standard broad task categories?\n",
    "\n",
    "- Classification (Binary, Multi-class, Multi-label)\n",
    "- Question Answering (with Sources, without Sources)\n",
    "- Text Generation\n",
    "- Text Summarization"
   ]
  },
  {
   "cell_type": "markdown",
   "id": "e7ec9b45",
   "metadata": {},
   "source": [
    "#### If you are unsure create 'throwaway' implementations\n",
    "\n",
    "- Prototype some ideas (playground, API)\n",
    "- Check how others have solved this problem (Papers, Journals, Github, Reddit, Twitter)\n",
    "- Get a throwaway app in front of trusted people quickly (Gradio)"
   ]
  },
  {
   "cell_type": "markdown",
   "id": "70275ab7",
   "metadata": {},
   "source": [
    "## Data"
   ]
  },
  {
   "cell_type": "markdown",
   "id": "ba121fe8",
   "metadata": {},
   "source": [
    "#### Try to find publicly available datasets that you might be able to use for your problem.\n",
    "\n",
    "Some popular sources are:\n",
    "- HuggingFace Datasets\n",
    "- Kaggle\n",
    "- Applications\n",
    "- APIs"
   ]
  },
  {
   "cell_type": "markdown",
   "id": "87b11d33",
   "metadata": {},
   "source": [
    "If you can't find any data:\n",
    "- **Make it yourself:** assemble your own dataset by hand!\n",
    "- **Scrape it:** write a script to pull the data your need\n",
    "- **Generate it:** you might be able to get started having GPT-4 generate examples for you! Big-brain: run your system and cherry pick examples that you deem to be high-quality\n",
    "- **Be creative:** data collection is 99% of the challenge in machine learning, figure it out!\n",
    "- **Otherwise, ask yourself:** why are you trying to solve this problem then, and how would you do it without data?"
   ]
  },
  {
   "cell_type": "markdown",
   "id": "201b80c6",
   "metadata": {},
   "source": [
    "## Models"
   ]
  },
  {
   "cell_type": "markdown",
   "id": "704909a0",
   "metadata": {},
   "source": [
    "Realistically, best way to get started is always to use the latest known good models:\n",
    "- gpt-5\n",
    "- gpt-3.5-turbo"
   ]
  },
  {
   "cell_type": "markdown",
   "id": "db3aba6e",
   "metadata": {},
   "source": [
    "## Metrics"
   ]
  },
  {
   "cell_type": "markdown",
   "id": "462f6174",
   "metadata": {},
   "source": [
    "By identifying your task, it becomes much easier to pick the right metrics to evaluate your solution.\n",
    "\n",
    "- Use HuggingFace Tasks: https://huggingface.co/tasks\n",
    "- Check what others in the literature are using (Google Scholar, arxiv)\n",
    "- Pick somewhere reasonable to start, but don't get paralysis by analysis over picking the perfect metric\n",
    "- Custom metrics: Based on format, based on content"
   ]
  },
  {
   "cell_type": "markdown",
   "id": "ab064062",
   "metadata": {},
   "source": [
    "## Workflow\n",
    "\n",
    "We want to optimize for:\n",
    "\n",
    "- fast feedback loops (eval-driven development, vcr)\n",
    "- stakeholder interaction (fast/cheap UIs)\n",
    "- ability to confidently make changes (version control, automated testing, continuous integration)\n",
    "- keeping our solution always working (version control, automated testing, continuous integration, continuous deployment)"
   ]
  }
 ],
 "metadata": {
  "kernelspec": {
   "display_name": "Python 3 (ipykernel)",
   "language": "python",
   "name": "python3"
  },
  "language_info": {
   "codemirror_mode": {
    "name": "ipython",
    "version": 3
   },
   "file_extension": ".py",
   "mimetype": "text/x-python",
   "name": "python",
   "nbconvert_exporter": "python",
   "pygments_lexer": "ipython3",
   "version": "3.9.6"
  }
 },
 "nbformat": 4,
 "nbformat_minor": 5
}
