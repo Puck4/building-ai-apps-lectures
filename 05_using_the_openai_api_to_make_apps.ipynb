{
 "cells": [
  {
   "cell_type": "markdown",
   "id": "0756dbef",
   "metadata": {
    "slideshow": {
     "slide_type": "slide"
    }
   },
   "source": [
    "# Using the OpenAI API\n",
    "* **Created by:** Eric Martinez\n",
    "* **For:** CSCI 3351\n",
    "* **At:** University of Texas Rio-Grande Valley"
   ]
  },
  {
   "cell_type": "markdown",
   "id": "78a6ab81",
   "metadata": {
    "slideshow": {
     "slide_type": "slide"
    }
   },
   "source": [
    "## OpenAI API\n",
    "\n",
    "The OpenAI API provides access to powerful LLMs like GPT-3.5 and GPT-4, enabling developers to leverage these models in their applications. To access the API, sign up for an API key on the OpenAI website and follow the documentation to make API calls.\n",
    "\n",
    "For enterprise: Azure OpenAI offers a robust and scalable platform for deploying LLMs in enterprise applications. It provides features like security, compliance, and support, making it an ideal choice for businesses looking to leverage LLMs.\n",
    "\n",
    "Options:\n",
    "* [[Free] Access to my OpenAI service](https://rgvaiclass.com) - _requires your UTRGV email and student ID_\n",
    "* [[Paid] Alternatively, sign-up for OpenAI API Access](https://platform.openai.com/signup)"
   ]
  },
  {
   "cell_type": "markdown",
   "id": "b0d0718b",
   "metadata": {
    "slideshow": {
     "slide_type": "slide"
    }
   },
   "source": [
    "## Managing Application Secrets\n",
    "\n",
    "Secrets are sensitive information, such as API keys, passwords, or cryptographic keys, that must be protected to ensure the security and integrity of a system.\n",
    "\n",
    "In software development, secrets are often used to authenticate users, grant access to resources, or encrypt/decrypt data. Mismanaging or exposing secrets can lead to severe security breaches and data leaks."
   ]
  },
  {
   "cell_type": "markdown",
   "id": "654c0ef3",
   "metadata": {
    "slideshow": {
     "slide_type": "slide"
    }
   },
   "source": [
    "#### Using  `.dotenv` library to protect secrets in Python"
   ]
  },
  {
   "cell_type": "markdown",
   "id": "6a636170",
   "metadata": {
    "slideshow": {
     "slide_type": "fragment"
    }
   },
   "source": [
    " `.dotenv` is a Python library that allows developers to load environment variables from a `.env` file. It helps keep secrets out of source code and makes it easier to manage and update them."
   ]
  },
  {
   "cell_type": "markdown",
   "id": "0e3e3ba2",
   "metadata": {
    "slideshow": {
     "slide_type": "slide"
    }
   },
   "source": [
    "Install the `python-dotenv` library"
   ]
  },
  {
   "cell_type": "code",
   "execution_count": 45,
   "id": "59b7c9af",
   "metadata": {
    "slideshow": {
     "slide_type": "fragment"
    }
   },
   "outputs": [],
   "source": [
    "!pip -q install --upgrade python-dotenv"
   ]
  },
  {
   "cell_type": "markdown",
   "id": "1d743822",
   "metadata": {
    "slideshow": {
     "slide_type": "fragment"
    }
   },
   "source": [
    "Create a `.env` file in this folder. Add secrets as key-value pairs in the `.env` file"
   ]
  },
  {
   "cell_type": "code",
   "execution_count": 1,
   "id": "f1c0c398",
   "metadata": {
    "slideshow": {
     "slide_type": "fragment"
    }
   },
   "outputs": [
    {
     "name": "stdout",
     "output_type": "stream",
     "text": [
      "Overwriting .env\n"
     ]
    }
   ],
   "source": [
    "%%writefile .env\n",
    "OPENAI_API_BASE=<my API base>\n",
    "OPENAI_API_KEY=<your API key to my service>"
   ]
  },
  {
   "cell_type": "markdown",
   "id": "8a190e3f",
   "metadata": {
    "slideshow": {
     "slide_type": "slide"
    }
   },
   "source": [
    "Then, use the following code to load those secrets into this notebook:"
   ]
  },
  {
   "cell_type": "code",
   "execution_count": 2,
   "id": "55fbd92f",
   "metadata": {
    "slideshow": {
     "slide_type": "fragment"
    }
   },
   "outputs": [
    {
     "data": {
      "text/plain": [
       "True"
      ]
     },
     "execution_count": 2,
     "metadata": {},
     "output_type": "execute_result"
    }
   ],
   "source": [
    "from dotenv import load_dotenv\n",
    "\n",
    "load_dotenv(override=True)  # take environment variables from .env."
   ]
  },
  {
   "cell_type": "markdown",
   "id": "bf36ced3",
   "metadata": {
    "slideshow": {
     "slide_type": "slide"
    }
   },
   "source": [
    "#### Install Dependencies"
   ]
  },
  {
   "cell_type": "code",
   "execution_count": 1,
   "id": "95afbbfa",
   "metadata": {
    "slideshow": {
     "slide_type": "fragment"
    }
   },
   "outputs": [],
   "source": [
    "!pip -q install --upgrade openai"
   ]
  },
  {
   "cell_type": "markdown",
   "id": "4a824a8b",
   "metadata": {
    "slideshow": {
     "slide_type": "slide"
    }
   },
   "source": [
    "#### Let's make a function to wrap OpenAI functionality "
   ]
  },
  {
   "cell_type": "markdown",
   "id": "08a3bf5f",
   "metadata": {
    "slideshow": {
     "slide_type": "fragment"
    }
   },
   "source": [
    "Start by simply seeing if we can make an API call"
   ]
  },
  {
   "cell_type": "code",
   "execution_count": 1,
   "id": "920686b5",
   "metadata": {
    "slideshow": {
     "slide_type": "fragment"
    }
   },
   "outputs": [
    {
     "name": "stdout",
     "output_type": "stream",
     "text": [
      "Sure, here's a simple 'Hello World' program in Java:\n",
      "\n",
      "```java\n",
      "public class HelloWorld {\n",
      "    public static void main(String[] args) {\n",
      "        System.out.println(\"Hello, World!\");\n",
      "    }\n",
      "}\n",
      "```\n",
      "\n",
      "Here's a breakdown of what's happening in this program:\n",
      "\n",
      "- `public class HelloWorld`: This line defines a public class named HelloWorld. Every Java application must contain a main class that wraps up all the program's content.\n",
      "\n",
      "- `public static void main(String[] args)`: This is the main method that the JVM executes when you run the Java program. The `String[] args` parameter represents command line arguments.\n",
      "\n",
      "- `System.out.println(\"Hello, World!\");`: This line prints the string \"Hello, World!\" to the console. The `System.out` object represents standard output (like your console or terminal), and `println` is a method that prints the argument passed to it.\n"
     ]
    }
   ],
   "source": [
    "from dotenv import load_dotenv\n",
    "\n",
    "load_dotenv(override=True)  # take environment variables from .env\n",
    "\n",
    "import os\n",
    "from openai import OpenAI\n",
    "\n",
    "client = OpenAI(\n",
    "    api_base=os.getenv(\"OPENAI_API_BASE\"),\n",
    "    api_key=os.getenv(\"OPENAI_API_KEY\")\n",
    ")\n",
    "\n",
    "prompt = \"You are a helpful assistant\"\n",
    "message = \"Hi! Help me write a 'hello world' program in Java.\"\n",
    "\n",
    "messages = [\n",
    "    {\"role\": \"system\", \"content\": prompt},\n",
    "    {\"role\": \"user\", \"content\": message}\n",
    "]\n",
    "\n",
    "model = \"gpt-4\"     # use gpt-3.5-turbo model\n",
    "temperature = 0     # controls randomness\n",
    "\n",
    "# Make an API call to the OpenAI ChatCompletion endpoint with the model and messages\n",
    "completion = client.chat.completions.create(\n",
    "    model=model,\n",
    "    messages=messages,\n",
    "    temperature=temperature\n",
    ")\n",
    "\n",
    "ai_reply = completion.choices[0].message.content.strip()\n",
    "print(ai_reply)"
   ]
  },
  {
   "cell_type": "markdown",
   "id": "6d7b26f4",
   "metadata": {
    "slideshow": {
     "slide_type": "slide"
    }
   },
   "source": [
    "Great! Now let's wrap that in a function"
   ]
  },
  {
   "cell_type": "code",
   "execution_count": 2,
   "id": "322c7d63",
   "metadata": {
    "slideshow": {
     "slide_type": "fragment"
    }
   },
   "outputs": [],
   "source": [
    "import os\n",
    "from dotenv import load_dotenv\n",
    "\n",
    "load_dotenv(override=True)  # take environment variables from .env.\n",
    "\n",
    "from openai import OpenAI\n",
    "\n",
    "client = OpenAI(\n",
    "    base_url=os.getenv(\"OPENAI_API_BASE\"),\n",
    "    api_key=os.getenv(\"OPENAI_API_KEY\")\n",
    ")\n",
    "\n",
    "def chat_completion(\n",
    "    message,\n",
    "    model=\"gpt-3.5-turbo\",\n",
    "    prompt=\"You are a helpful assistant.\",\n",
    "    temperature=0,\n",
    "    messages=[],\n",
    "):\n",
    "    # Add the prompt to the messages list\n",
    "    if prompt is not None:\n",
    "        messages = [{\"role\": \"system\", \"content\": prompt}] + messages\n",
    "\n",
    "    if message is not None:\n",
    "        # Add the user's message to the messages list\n",
    "        messages += [{\"role\": \"user\", \"content\": message}]\n",
    "\n",
    "    # Make an API call to the OpenAI ChatCompletion endpoint with the model and messages\n",
    "\n",
    "    # Make an API call to the OpenAI ChatCompletion endpoint with the model and messages\n",
    "    completion = client.chat.completions.create(\n",
    "        model=model,\n",
    "        messages=messages,\n",
    "        temperature=temperature\n",
    "    )\n",
    "\n",
    "    # Extract and return the AI's response from the API response\n",
    "    return completion.choices[0].message.content.strip()"
   ]
  },
  {
   "cell_type": "code",
   "execution_count": 3,
   "id": "4a3d4d81",
   "metadata": {
    "slideshow": {
     "slide_type": "slide"
    }
   },
   "outputs": [
    {
     "name": "stdout",
     "output_type": "stream",
     "text": [
      "My name is Jarvis. How can I assist you today?\n"
     ]
    }
   ],
   "source": [
    "# example\n",
    "prompt = \"Your are a helpful assistant named Jarvis.\"\n",
    "message = \"What is your name?\"\n",
    "reply = chat_completion(message, prompt=prompt)\n",
    "\n",
    "print(reply)"
   ]
  },
  {
   "cell_type": "markdown",
   "id": "19beb9fc",
   "metadata": {
    "slideshow": {
     "slide_type": "slide"
    }
   },
   "source": [
    "## Example: Joke Maker"
   ]
  },
  {
   "cell_type": "markdown",
   "id": "735ee86e",
   "metadata": {
    "slideshow": {
     "slide_type": "fragment"
    }
   },
   "source": [
    "Write a prompt that when given a topic, makes a funny joke about that topic."
   ]
  },
  {
   "cell_type": "code",
   "execution_count": 4,
   "id": "8461786a",
   "metadata": {
    "slideshow": {
     "slide_type": "slide"
    }
   },
   "outputs": [
    {
     "name": "stdout",
     "output_type": "stream",
     "text": [
      "Why did the C++ developer go broke? Because he used up all his pointers!\n"
     ]
    }
   ],
   "source": [
    "prompt = \"You will be given a topic, write a rated G joke about that topic. Make sure it is funny.\"\n",
    "message = \"c++ developers\"\n",
    "reply = chat_completion(message, prompt=prompt)\n",
    "\n",
    "print(reply)"
   ]
  },
  {
   "cell_type": "markdown",
   "id": "0bd10783",
   "metadata": {
    "slideshow": {
     "slide_type": "slide"
    }
   },
   "source": [
    "## Example : Translation"
   ]
  },
  {
   "cell_type": "markdown",
   "id": "c2d4d882",
   "metadata": {
    "slideshow": {
     "slide_type": "fragment"
    }
   },
   "source": [
    "Write a prompt that when given text, translates the text to Spanish."
   ]
  },
  {
   "cell_type": "code",
   "execution_count": 5,
   "id": "10158a7a",
   "metadata": {
    "slideshow": {
     "slide_type": "slide"
    }
   },
   "outputs": [
    {
     "name": "stdout",
     "output_type": "stream",
     "text": [
      "¿Por qué el desarrollador de C++ quedó en la bancarrota? ¡Porque gastó todos sus punteros!\n"
     ]
    }
   ],
   "source": [
    "prompt = \"You will be handed text by the user. Translate that text into Spanish.\"\n",
    "message = \"Why did the C++ developer go broke? Because he used up all his pointers!\"\n",
    "reply = chat_completion(message, prompt=prompt)\n",
    "\n",
    "print(reply)"
   ]
  },
  {
   "cell_type": "markdown",
   "id": "9ccba4fc",
   "metadata": {
    "slideshow": {
     "slide_type": "slide"
    }
   },
   "source": [
    "## Example: Recipe Maker"
   ]
  },
  {
   "cell_type": "markdown",
   "id": "e5dad7db",
   "metadata": {
    "slideshow": {
     "slide_type": "fragment"
    }
   },
   "source": [
    "Write a prompt that when given guidance, creates a recipe."
   ]
  },
  {
   "cell_type": "code",
   "execution_count": 6,
   "id": "00b2ef59",
   "metadata": {
    "slideshow": {
     "slide_type": "slide"
    }
   },
   "outputs": [
    {
     "name": "stdout",
     "output_type": "stream",
     "text": [
      "Deep Dish Lasagna Recipe:\n",
      "\n",
      "Ingredients:\n",
      "- 1 pound ground beef\n",
      "- 1 onion, chopped\n",
      "- 3 cloves garlic, minced\n",
      "- 1 can (28 oz) crushed tomatoes\n",
      "- 1 can (6 oz) tomato paste\n",
      "- 1 teaspoon dried basil\n",
      "- 1 teaspoon dried oregano\n",
      "- Salt and pepper to taste\n",
      "- 1 package (16 oz) lasagna noodles\n",
      "- 2 cups ricotta cheese\n",
      "- 2 cups shredded mozzarella cheese\n",
      "- 1/2 cup grated Parmesan cheese\n",
      "- Fresh basil leaves for garnish\n",
      "\n",
      "Instructions:\n",
      "1. Preheat your oven to 375°F (190°C).\n",
      "2. In a large skillet, cook the ground beef over medium heat until browned. Add the chopped onion and garlic, and cook until the onion is translucent.\n",
      "3. Stir in the crushed tomatoes, tomato paste, dried basil, dried oregano, salt, and pepper. Simmer the sauce for about 10 minutes, stirring occasionally.\n",
      "4. Cook the lasagna noodles according to the package instructions, then drain and set aside.\n",
      "5. In a deep dish baking pan, spread a thin layer of the meat sauce on the bottom.\n",
      "6. Layer half of the cooked lasagna noodles on top of the sauce.\n",
      "7. Spread half of the ricotta cheese over the noodles, followed by half of the mozzarella and Parmesan cheeses.\n",
      "8. Repeat the layers with the remaining meat sauce, noodles, ricotta cheese, mozzarella cheese, and Parmesan cheese.\n",
      "9. Cover the baking dish with aluminum foil and bake in the preheated oven for 30 minutes.\n",
      "10. Remove the foil and bake for an additional 15-20 minutes, or until the cheese is bubbly and golden brown.\n",
      "11. Let the deep dish lasagna cool for a few minutes before slicing.\n",
      "12. Garnish with fresh basil leaves before serving.\n",
      "\n",
      "Enjoy your delicious and hearty deep dish lasagna!\n"
     ]
    }
   ],
   "source": [
    "prompt = \"You will be handed an idea for a dish, create a recipe for that dish.\"\n",
    "message = \"deep dish lasagna\"\n",
    "reply = chat_completion(message, prompt=prompt)\n",
    "\n",
    "print(reply)"
   ]
  },
  {
   "cell_type": "markdown",
   "id": "00114859",
   "metadata": {
    "slideshow": {
     "slide_type": "slide"
    }
   },
   "source": [
    "## Example: Study Buddy"
   ]
  },
  {
   "cell_type": "markdown",
   "id": "e6f4c877",
   "metadata": {
    "slideshow": {
     "slide_type": "fragment"
    }
   },
   "source": [
    "Write a prompt that when provided text it produces content for 10 flashcards (the front and back) from that text."
   ]
  },
  {
   "cell_type": "code",
   "execution_count": 7,
   "id": "ef534c9a",
   "metadata": {
    "slideshow": {
     "slide_type": "slide"
    }
   },
   "outputs": [
    {
     "name": "stdout",
     "output_type": "stream",
     "text": [
      "1. What is marine biology?\n",
      "- Marine biology is the scientific study of the biology of marine life, organisms in the sea. It classifies species based on the environment rather than on taxonomy.\n",
      "\n",
      "2. What proportion of all life on Earth lives in the ocean?\n",
      "- A large proportion of all life on Earth lives in the ocean, but the exact size is unknown as many ocean species are still undiscovered.\n",
      "\n",
      "3. What are some habitats studied in marine biology?\n",
      "- Habitats studied in marine biology include estuaries, coral reefs, kelp forests, seagrass meadows, oceanic trenches, tidepools, and the open ocean zone.\n",
      "\n",
      "4. What is the difference between marine biology and biological oceanography?\n",
      "- Marine biology studies species that live in marine habitats, while biological oceanography focuses on how organisms affect and are affected by the physics, chemistry, and geology of the oceanographic system.\n",
      "\n",
      "5. What does biological oceanography mainly focus on?\n",
      "- Biological oceanography mainly focuses on microorganisms within the ocean, looking at how they are affected by their environment and how that affects larger marine creatures and their ecosystem.\n",
      "\n",
      "6. How deep do oceans average in depth?\n",
      "- Oceans average nearly four kilometers in depth and are fringed with coastlines that run for about 360,000 kilometers.\n",
      "\n",
      "7. What are some economically important marine species to humans?\n",
      "- Many species are economically important to humans, including finfish and shellfish, which provide food, medicine, and raw materials.\n",
      "\n",
      "8. How do marine organisms contribute to the oxygen cycle?\n",
      "- Marine organisms contribute significantly to the oxygen cycle and are involved in the regulation of the Earth's climate.\n",
      "\n",
      "9. What is the role of marine life in shaping shorelines?\n",
      "- Shorelines are in part shaped and protected by marine life, and some marine organisms even help create new land.\n",
      "\n",
      "10. What is the emphasis of biological oceanography on plankton?\n",
      "- Biological oceanography focuses on plankton, including their diversity, productivity, distribution, and their role in the global carbon cycle.\n"
     ]
    }
   ],
   "source": [
    "prompt = \"You will be handed pieces of information or articles provide ten flash cards based on the information.\"\n",
    "message = \"\"\"\n",
    "Marine biology\n",
    "\n",
    "Article\n",
    "Talk\n",
    "Read\n",
    "Edit\n",
    "View history\n",
    "\n",
    "Tools\n",
    "From Wikipedia, the free encyclopedia\n",
    "For the scientific journal, see Marine Biology (journal).\n",
    "\"Marine biologist\" redirects here. For the Seinfeld episode, see The Marine Biologist.\n",
    "\n",
    "\n",
    "\n",
    "\n",
    "Marine biology studies species (marine life) that live in marine habitats (coastal and open ocean habitats). Clockwise from top left: Tide pool in Santa Cruz, United States; School of barracuda at Pom Pom Island, Malaysia; Fan mussel in a Mediterranean seagrass meadow; Research submarine for marine research.\n",
    "Part of a series on\n",
    "Biology\n",
    "\n",
    "Science of life\n",
    "IndexOutlineGlossary\n",
    "History (timeline)\n",
    "Key components\n",
    "Branches\n",
    "Research\n",
    "Applications\n",
    "icon Biology portal Category\n",
    "vte\n",
    "Marine biology is the scientific study of the biology of marine life, organisms in the sea. Given that in biology many phyla, families and genera have some species that live in the sea and others that live on land, marine biology classifies species based on the environment rather than on taxonomy.\n",
    "\n",
    "A large proportion of all life on Earth lives in the ocean. The exact size of this large proportion is unknown, since many ocean species are still to be discovered. The ocean is a complex three-dimensional world[1] covering approximately 71% of the Earth's surface. The habitats studied in marine biology include everything from the tiny layers of surface water in which organisms and abiotic items may be trapped in surface tension between the ocean and atmosphere, to the depths of the oceanic trenches, sometimes 10,000 meters or more beneath the surface of the ocean. Specific habitats include estuaries, coral reefs, kelp forests, seagrass meadows, the surrounds of seamounts and thermal vents, tidepools, muddy, sandy and rocky bottoms, and the open ocean (pelagic) zone, where solid objects are rare and the surface of the water is the only visible boundary. The organisms studied range from microscopic phytoplankton and zooplankton to huge cetaceans (whales) 25–32 meters (82–105 feet) in length. Marine ecology is the study of how marine organisms interact with each other and the environment.\n",
    "\n",
    "Marine life is a vast resource, providing food, medicine, and raw materials, in addition to helping to support recreation and tourism all over the world. At a fundamental level, marine life helps determine the very nature of our planet. Marine organisms contribute significantly to the oxygen cycle, and are involved in the regulation of the Earth's climate.[2] Shorelines are in part shaped and protected by marine life, and some marine organisms even help create new land.[3]\n",
    "\n",
    "Many species are economically important to humans, including both finfish and shellfish. It is also becoming understood that the well-being of marine organisms and other organisms are linked in fundamental ways. The human body of knowledge regarding the relationship between life in the sea and important cycles is rapidly growing, with new discoveries being made nearly every day. These cycles include those of matter (such as the carbon cycle) and of air (such as Earth's respiration, and movement of energy through ecosystems including the ocean). Large areas beneath the ocean surface still remain effectively unexplored.\n",
    "\n",
    "Biological oceanography\n",
    "Main article: Biological oceanography\n",
    "Two views of the ocean from space\n",
    "Marine biology studies species that live in marine habitats. Most of the Earth's surface is covered by ocean, which is the home to marine life. Oceans average nearly four kilometers in-depth and are fringed with coastlines that run for about 360,000 kilometres.[4][5]\n",
    "Marine biology can be contrasted with biological oceanography. Marine life is a field of study both in marine biology and in biological oceanography. Biological oceanography is the study of how organisms affect and are affected by the physics, chemistry, and geology of the oceanographic system. Biological oceanography mostly focuses on the microorganisms within the ocean; looking at how they are affected by their environment and how that affects larger marine creatures and their ecosystem.[6] Biological oceanography is similar to marine biology, but it studies ocean life from a different perspective. Biological oceanography takes a bottom up approach in terms of the food web, while marine biology studies the ocean from a top down perspective. Biological oceanography mainly focuses on the ecosystem of the ocean with an emphasis on plankton: their diversity (morphology, nutritional sources, motility, and metabolism); their productivity and how that plays a role in the global carbon cycle; and their distribution (predation and life cycle).[6][7][8] Biological oceanography also investigates the role of microbes in food webs, and how humans impact the ecosystems in the oceans.[6][9]\n",
    "\"\"\"\n",
    "reply = chat_completion(message, prompt=prompt)\n",
    "\n",
    "print(reply)"
   ]
  },
  {
   "cell_type": "markdown",
   "id": "fd572395",
   "metadata": {
    "slideshow": {
     "slide_type": "slide"
    }
   },
   "source": [
    "## Example: Joke Maker v2"
   ]
  },
  {
   "cell_type": "markdown",
   "id": "df74f3dc",
   "metadata": {},
   "source": [
    "Write a function that when provided a topic, writes a joke about that topic."
   ]
  },
  {
   "cell_type": "code",
   "execution_count": 9,
   "id": "a8ec3046",
   "metadata": {},
   "outputs": [
    {
     "name": "stdout",
     "output_type": "stream",
     "text": [
      "Why did the dog sit in the shade? \n",
      "Because he didn't want to be a hot dog!\n"
     ]
    }
   ],
   "source": [
    "def make_joke(topic):\n",
    "    prompt = \"You will be handed text make a G-rated joke based on that text. Make it SUPER FUNNY.\"\n",
    "    message = topic\n",
    "    reply = chat_completion(message, prompt=prompt)\n",
    "    \n",
    "    return reply\n",
    "\n",
    "print(make_joke(\"dog\"))"
   ]
  },
  {
   "cell_type": "markdown",
   "id": "4cb6423f",
   "metadata": {
    "slideshow": {
     "slide_type": "slide"
    }
   },
   "source": [
    "## Example: Translation v2"
   ]
  },
  {
   "cell_type": "markdown",
   "id": "9fba69af",
   "metadata": {
    "slideshow": {
     "slide_type": "slide"
    }
   },
   "source": [
    "Write a function that when provided text and a language, translates the text to that language (default Spanish)."
   ]
  },
  {
   "cell_type": "code",
   "execution_count": 10,
   "id": "3a27abf3",
   "metadata": {},
   "outputs": [
    {
     "name": "stdout",
     "output_type": "stream",
     "text": [
      "#### Cuaderno Jupyter\n",
      "Jupyter es una gran herramienta para escribir e interactuar con código. Te permite incrustar código y texto para escribir y documentar la exploración de código.\n",
      "\n",
      "Es una gran herramienta para prototipar y desarrollar rápidamente, además de ser una excelente manera de distribuir código comprensible a otros.\n",
      "\n",
      "En muchas áreas, como el aprendizaje automático y la ciencia de datos, es extremadamente común que los desarrolladores pasen la mayor parte de su tiempo en un entorno de cuaderno.\n"
     ]
    }
   ],
   "source": [
    "def translate(text, language=\"Spanish\"):\n",
    "    prompt = f\"You will be given text, translate that text into {language}\"\n",
    "    message = text\n",
    "    reply = chat_completion(message, prompt=prompt)\n",
    "    \n",
    "    return reply\n",
    "\n",
    "print(translate(\"\"\"\n",
    "#### Jupyter Notebook\n",
    "Jupyter is a great tool for writing and interacting with code. It lets you embed code and text to write and document code exploration.\n",
    "\n",
    "It is a great tool for prototyping and rapid development on top of being a great way to distribute understandable code to others.\n",
    "\n",
    "In many areas, such as machine learning and data science, it is extremely common for developers to spend most of their time in a notebook environment.\n",
    "\"\"\"))"
   ]
  },
  {
   "cell_type": "markdown",
   "id": "e2579b98",
   "metadata": {},
   "source": [
    "## Example: Study Buddy v2"
   ]
  },
  {
   "cell_type": "markdown",
   "id": "406709f5",
   "metadata": {},
   "source": [
    "Write a function that when provided text it produces content for 10 flashcards (the 'front' and 'back') from that text as a two column CSV spreadsheet."
   ]
  },
  {
   "cell_type": "code",
   "execution_count": 13,
   "id": "67b267d1",
   "metadata": {},
   "outputs": [
    {
     "name": "stdout",
     "output_type": "stream",
     "text": [
      "front,back\n",
      "Marine biology,The scientific study of the biology of marine life, organisms in the sea.\n",
      "Marine habitats,Coastal and open ocean habitats where marine species live.\n",
      "Ocean,Complex three-dimensional world covering approximately 71% of the Earth's surface.\n",
      "Marine ecology,Study of how marine organisms interact with each other and the environment.\n",
      "Marine life,Vast resource providing food, medicine, raw materials, and supporting recreation and tourism.\n",
      "Biological oceanography,Study of how organisms affect and are affected by the physics, chemistry, and geology of the oceanographic system.\n",
      "Phytoplankton and zooplankton,Examples of microscopic marine organisms studied in marine biology.\n",
      "Cetaceans,Whales that can grow up to 25-32 meters (82-105 feet) in length.\n",
      "Ecosystem,Interconnected system of organisms and their environment.\n",
      "Plankton,Diverse group of organisms studied in biological oceanography for their role in the global carbon cycle.\n"
     ]
    }
   ],
   "source": [
    "def make_flashcards(text):\n",
    "    prompt = \"\"\"\n",
    "    You will be handed text, make 10 flashcards from that text. \n",
    "    Return the results in CSV format. \n",
    "    \n",
    "    Use the following headers: front,back\n",
    "    \"\"\"\n",
    "    message = text\n",
    "    reply = chat_completion(message, prompt=prompt)\n",
    "    \n",
    "    return reply\n",
    "\n",
    "text = \"\"\"\n",
    "Marine biology\n",
    "\n",
    "Article\n",
    "Talk\n",
    "Read\n",
    "Edit\n",
    "View history\n",
    "\n",
    "Tools\n",
    "From Wikipedia, the free encyclopedia\n",
    "For the scientific journal, see Marine Biology (journal).\n",
    "\"Marine biologist\" redirects here. For the Seinfeld episode, see The Marine Biologist.\n",
    "\n",
    "\n",
    "\n",
    "\n",
    "Marine biology studies species (marine life) that live in marine habitats (coastal and open ocean habitats). Clockwise from top left: Tide pool in Santa Cruz, United States; School of barracuda at Pom Pom Island, Malaysia; Fan mussel in a Mediterranean seagrass meadow; Research submarine for marine research.\n",
    "Part of a series on\n",
    "Biology\n",
    "\n",
    "Science of life\n",
    "IndexOutlineGlossary\n",
    "History (timeline)\n",
    "Key components\n",
    "Branches\n",
    "Research\n",
    "Applications\n",
    "icon Biology portal Category\n",
    "vte\n",
    "Marine biology is the scientific study of the biology of marine life, organisms in the sea. Given that in biology many phyla, families and genera have some species that live in the sea and others that live on land, marine biology classifies species based on the environment rather than on taxonomy.\n",
    "\n",
    "A large proportion of all life on Earth lives in the ocean. The exact size of this large proportion is unknown, since many ocean species are still to be discovered. The ocean is a complex three-dimensional world[1] covering approximately 71% of the Earth's surface. The habitats studied in marine biology include everything from the tiny layers of surface water in which organisms and abiotic items may be trapped in surface tension between the ocean and atmosphere, to the depths of the oceanic trenches, sometimes 10,000 meters or more beneath the surface of the ocean. Specific habitats include estuaries, coral reefs, kelp forests, seagrass meadows, the surrounds of seamounts and thermal vents, tidepools, muddy, sandy and rocky bottoms, and the open ocean (pelagic) zone, where solid objects are rare and the surface of the water is the only visible boundary. The organisms studied range from microscopic phytoplankton and zooplankton to huge cetaceans (whales) 25–32 meters (82–105 feet) in length. Marine ecology is the study of how marine organisms interact with each other and the environment.\n",
    "\n",
    "Marine life is a vast resource, providing food, medicine, and raw materials, in addition to helping to support recreation and tourism all over the world. At a fundamental level, marine life helps determine the very nature of our planet. Marine organisms contribute significantly to the oxygen cycle, and are involved in the regulation of the Earth's climate.[2] Shorelines are in part shaped and protected by marine life, and some marine organisms even help create new land.[3]\n",
    "\n",
    "Many species are economically important to humans, including both finfish and shellfish. It is also becoming understood that the well-being of marine organisms and other organisms are linked in fundamental ways. The human body of knowledge regarding the relationship between life in the sea and important cycles is rapidly growing, with new discoveries being made nearly every day. These cycles include those of matter (such as the carbon cycle) and of air (such as Earth's respiration, and movement of energy through ecosystems including the ocean). Large areas beneath the ocean surface still remain effectively unexplored.\n",
    "\n",
    "Biological oceanography\n",
    "Main article: Biological oceanography\n",
    "Two views of the ocean from space\n",
    "Marine biology studies species that live in marine habitats. Most of the Earth's surface is covered by ocean, which is the home to marine life. Oceans average nearly four kilometers in-depth and are fringed with coastlines that run for about 360,000 kilometres.[4][5]\n",
    "Marine biology can be contrasted with biological oceanography. Marine life is a field of study both in marine biology and in biological oceanography. Biological oceanography is the study of how organisms affect and are affected by the physics, chemistry, and geology of the oceanographic system. Biological oceanography mostly focuses on the microorganisms within the ocean; looking at how they are affected by their environment and how that affects larger marine creatures and their ecosystem.[6] Biological oceanography is similar to marine biology, but it studies ocean life from a different perspective. Biological oceanography takes a bottom up approach in terms of the food web, while marine biology studies the ocean from a top down perspective. Biological oceanography mainly focuses on the ecosystem of the ocean with an emphasis on plankton: their diversity (morphology, nutritional sources, motility, and metabolism); their productivity and how that plays a role in the global carbon cycle; and their distribution (predation and life cycle).[6][7][8] Biological oceanography also investigates the role of microbes in food webs, and how humans impact the ecosystems in the oceans.[6][9]\n",
    "\"\"\"\n",
    "\n",
    "print(make_flashcards(text))"
   ]
  }
 ],
 "metadata": {
  "celltoolbar": "Slideshow",
  "kernelspec": {
   "display_name": "Python 3 (ipykernel)",
   "language": "python",
   "name": "python3"
  },
  "language_info": {
   "codemirror_mode": {
    "name": "ipython",
    "version": 3
   },
   "file_extension": ".py",
   "mimetype": "text/x-python",
   "name": "python",
   "nbconvert_exporter": "python",
   "pygments_lexer": "ipython3",
   "version": "3.9.6"
  }
 },
 "nbformat": 4,
 "nbformat_minor": 5
}
