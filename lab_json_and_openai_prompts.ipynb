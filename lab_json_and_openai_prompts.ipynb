{
 "cells": [
  {
   "cell_type": "markdown",
   "id": "32d3817c",
   "metadata": {
    "slideshow": {
     "slide_type": "slide"
    }
   },
   "source": [
    "# Lab: JSON + OpenAI Prompts\n",
    "* **Created by:** Eric Martinez\n",
    "* **For:** CSCI 3351\n",
    "* **At:** University of Texas Rio-Grande Valley"
   ]
  },
  {
   "cell_type": "markdown",
   "id": "3328a3ff",
   "metadata": {
    "slideshow": {
     "slide_type": "fragment"
    }
   },
   "source": [
    "## Get Setup:\n",
    "Create a `.env` file in this folder. Add secrets as key-value pairs in the `.env` file"
   ]
  },
  {
   "cell_type": "code",
   "execution_count": null,
   "id": "698f1641",
   "metadata": {
    "slideshow": {
     "slide_type": "fragment"
    }
   },
   "outputs": [],
   "source": [
    "%%writefile .env\n",
    "OPENAI_API_BASE=<my API base>\n",
    "OPENAI_API_KEY=<your API key to my service>"
   ]
  },
  {
   "cell_type": "markdown",
   "id": "8669bf02",
   "metadata": {},
   "source": [
    "Edit the resulting `.env` file with your `OPENAI_API_BASE` and `OPENAI_API_KEY`"
   ]
  },
  {
   "cell_type": "markdown",
   "id": "81bc646c",
   "metadata": {
    "slideshow": {
     "slide_type": "slide"
    }
   },
   "source": [
    "#### Install Dependencies"
   ]
  },
  {
   "cell_type": "code",
   "execution_count": null,
   "id": "461a6835",
   "metadata": {},
   "outputs": [],
   "source": [
    "!pip -q install --upgrade python-dotenv"
   ]
  },
  {
   "cell_type": "code",
   "execution_count": null,
   "id": "a947d14c",
   "metadata": {
    "slideshow": {
     "slide_type": "fragment"
    }
   },
   "outputs": [],
   "source": [
    "!pip -q install --upgrade openai"
   ]
  },
  {
   "cell_type": "markdown",
   "id": "b8810d6a",
   "metadata": {
    "slideshow": {
     "slide_type": "fragment"
    }
   },
   "source": [
    "#### Function for interacting with GPT"
   ]
  },
  {
   "cell_type": "code",
   "execution_count": null,
   "id": "52c83823",
   "metadata": {
    "slideshow": {
     "slide_type": "fragment"
    }
   },
   "outputs": [],
   "source": [
    "from openai import OpenAI\n",
    "import os\n",
    "from dotenv import load_dotenv\n",
    "\n",
    "load_dotenv(override=True)  # take environment variables from .env.\n",
    "\n",
    "client = OpenAI(\n",
    "    base_url=os.getenv(\"OPENAI_API_BASE\"),\n",
    "    api_key=os.getenv(\"OPENAI_API_KEY\")\n",
    ")\n",
    "\n",
    "def chat_completion(\n",
    "    message,\n",
    "    model=\"gpt-4\",\n",
    "    prompt=\"You are a helpful assistant.\",\n",
    "    temperature=0,\n",
    "    messages=[],\n",
    "):\n",
    "    # Add the prompt to the messages list\n",
    "    if prompt is not None:\n",
    "        messages = [{\"role\": \"system\", \"content\": prompt}] + messages\n",
    "\n",
    "    if message is not None:\n",
    "        # Add the user's message to the messages list\n",
    "        messages += [{\"role\": \"user\", \"content\": message}]\n",
    "\n",
    "    # Make an API call to the OpenAI ChatCompletion endpoint with the model and messages\n",
    "\n",
    "    # Make an API call to the OpenAI ChatCompletion endpoint with the model and messages\n",
    "    completion = client.chat.completions.create(\n",
    "        model=model,\n",
    "        messages=messages,\n",
    "        temperature=temperature\n",
    "    )\n",
    "\n",
    "    # Extract and return the AI's response from the API response\n",
    "    return completion.choices[0].message.content.strip()"
   ]
  },
  {
   "cell_type": "markdown",
   "id": "5c2cf020",
   "metadata": {
    "slideshow": {
     "slide_type": "slide"
    }
   },
   "source": [
    "## Exercise 1: Extract Value from Dictionary"
   ]
  },
  {
   "cell_type": "markdown",
   "id": "7b99467c",
   "metadata": {},
   "source": [
    "Print out the value of the 'name' key."
   ]
  },
  {
   "cell_type": "code",
   "execution_count": null,
   "id": "34304909",
   "metadata": {},
   "outputs": [],
   "source": [
    "student = {\n",
    "    \"name\": \"Voldemort\",\n",
    "    \"course\": \"Dark Arts\",\n",
    "    \"grade\": 100.0\n",
    "}\n",
    "\n",
    "# print the value of the 'name' key\n"
   ]
  },
  {
   "cell_type": "markdown",
   "id": "689916fb",
   "metadata": {},
   "source": [
    "## Exercise 2: Convert Dictionary to JSON formatted string"
   ]
  },
  {
   "cell_type": "markdown",
   "id": "b36a3a77",
   "metadata": {},
   "source": [
    "Convert the following dictionary to a JSON formatted string"
   ]
  },
  {
   "cell_type": "code",
   "execution_count": null,
   "id": "5229a115",
   "metadata": {},
   "outputs": [],
   "source": [
    "student = {\n",
    "    \"name\": \"Voldemort\",\n",
    "    \"course\": \"Dark Arts\",\n",
    "    \"grade\": 100.0\n",
    "}\n",
    "\n",
    "# Convert to JSON\n",
    "\n",
    "# Print JSON string"
   ]
  },
  {
   "cell_type": "markdown",
   "id": "eb6d22f7",
   "metadata": {},
   "source": [
    "## Exercise 3: Loop through list of dictionaries"
   ]
  },
  {
   "cell_type": "markdown",
   "id": "a13e187f",
   "metadata": {},
   "source": [
    "Loop through each list entry and print out each entry in the following format:\n",
    "\n",
    "Name - Course - Grade"
   ]
  },
  {
   "cell_type": "code",
   "execution_count": null,
   "id": "e7348f8a",
   "metadata": {},
   "outputs": [],
   "source": [
    "students = [\n",
    "    {\n",
    "        \"name\": \"Harry Potter\",\n",
    "        \"course\": \"Defense Against the Dark Arts\",\n",
    "        \"grade\": 95.0\n",
    "    },\n",
    "    {\n",
    "        \"name\": \"Hermione Granger\",\n",
    "        \"course\": \"All Courses\",\n",
    "        \"grade\": 100.0\n",
    "    },\n",
    "    {\n",
    "        \"name\": \"Ron Weasley\",\n",
    "        \"course\": \"Divination\",\n",
    "        \"grade\": 85.0\n",
    "    },\n",
    "    {\n",
    "        \"name\": \"Draco Malfoy\",\n",
    "        \"course\": \"Potions\",\n",
    "        \"grade\": 90.0\n",
    "    },\n",
    "    {\n",
    "        \"name\": \"Neville Longbottom\",\n",
    "        \"course\": \"Herbology\",\n",
    "        \"grade\": 98.0\n",
    "    }\n",
    "]\n",
    "\n",
    "# Loop through each and display the formatted information"
   ]
  },
  {
   "cell_type": "markdown",
   "id": "851746ad",
   "metadata": {},
   "source": [
    "## Exercise 4: Convert JSON formatted string to list of dictionaries"
   ]
  },
  {
   "cell_type": "markdown",
   "id": "5b72ccc8",
   "metadata": {},
   "source": [
    "Convert the following JSON formatted string to a list of dictionaries.\n",
    "\n",
    "Then, loop through each and print out each entry in the following format:\n",
    "\n",
    "Name - Course - Grade"
   ]
  },
  {
   "cell_type": "code",
   "execution_count": null,
   "id": "6451c31b",
   "metadata": {},
   "outputs": [],
   "source": [
    "students_json = \"\"\"\n",
    "[\n",
    "    {\n",
    "        \"name\": \"Harry Potter\",\n",
    "        \"course\": \"Defense Against the Dark Arts\",\n",
    "        \"grade\": 95.0\n",
    "    },\n",
    "    {\n",
    "        \"name\": \"Hermione Granger\",\n",
    "        \"course\": \"All Courses\",\n",
    "        \"grade\": 100.0\n",
    "    },\n",
    "    {\n",
    "        \"name\": \"Ron Weasley\",\n",
    "        \"course\": \"Divination\",\n",
    "        \"grade\": 85.0\n",
    "    },\n",
    "    {\n",
    "        \"name\": \"Draco Malfoy\",\n",
    "        \"course\": \"Potions\",\n",
    "        \"grade\": 90.0\n",
    "    },\n",
    "    {\n",
    "        \"name\": \"Neville Longbottom\",\n",
    "        \"course\": \"Herbology\",\n",
    "        \"grade\": 98.0\n",
    "    }\n",
    "]\n",
    "\"\"\"\n",
    "\n",
    "# Convert to Python representation\n",
    "\n",
    "# Print result\n"
   ]
  },
  {
   "cell_type": "markdown",
   "id": "6cd3e8d8",
   "metadata": {
    "slideshow": {
     "slide_type": "slide"
    }
   },
   "source": [
    "## Exercise 5: Cocktail Maker"
   ]
  },
  {
   "cell_type": "markdown",
   "id": "9c589d3c",
   "metadata": {
    "slideshow": {
     "slide_type": "fragment"
    }
   },
   "source": [
    "Write a prompt that when given an idea, creates a recipe for an award-winning cocktail."
   ]
  },
  {
   "cell_type": "code",
   "execution_count": null,
   "id": "d0662ae7",
   "metadata": {
    "slideshow": {
     "slide_type": "slide"
    }
   },
   "outputs": [],
   "source": [
    "prompt = \"\"\n",
    "message = \"something tropical that involves rum\"\n",
    "reply = chat_completion(message, prompt=prompt)\n",
    "\n",
    "print(reply)"
   ]
  },
  {
   "cell_type": "markdown",
   "id": "bad4864b",
   "metadata": {
    "slideshow": {
     "slide_type": "slide"
    }
   },
   "source": [
    "## Exercise 6: Dog Names"
   ]
  },
  {
   "cell_type": "markdown",
   "id": "10b42e68",
   "metadata": {
    "slideshow": {
     "slide_type": "fragment"
    }
   },
   "source": [
    "Write a prompt that when given a description of a dog, provides a list of 10 potential names for the dog."
   ]
  },
  {
   "cell_type": "code",
   "execution_count": null,
   "id": "24654748",
   "metadata": {
    "slideshow": {
     "slide_type": "slide"
    }
   },
   "outputs": [],
   "source": [
    "prompt = \"\"\n",
    "message = \"\"\n",
    "reply = chat_completion(message, prompt=prompt)\n",
    "\n",
    "print(reply)"
   ]
  },
  {
   "cell_type": "markdown",
   "id": "17d72860",
   "metadata": {
    "slideshow": {
     "slide_type": "slide"
    }
   },
   "source": [
    "## Exercise 7: Quiz Maker"
   ]
  },
  {
   "cell_type": "markdown",
   "id": "67db767c",
   "metadata": {
    "slideshow": {
     "slide_type": "fragment"
    }
   },
   "source": [
    "Write a prompt that when given information, turns it into a 10 question multiple-choice quiz."
   ]
  },
  {
   "cell_type": "code",
   "execution_count": null,
   "id": "ee92ae66",
   "metadata": {
    "slideshow": {
     "slide_type": "slide"
    }
   },
   "outputs": [],
   "source": [
    "prompt = \"\"\n",
    "message = \"\"\n",
    "reply = chat_completion(message, prompt=prompt)\n",
    "\n",
    "print(reply)"
   ]
  },
  {
   "cell_type": "markdown",
   "id": "ecf1311a",
   "metadata": {
    "slideshow": {
     "slide_type": "slide"
    }
   },
   "source": [
    "## Exercise 8: Cocktail Maker v2"
   ]
  },
  {
   "cell_type": "markdown",
   "id": "2d497913",
   "metadata": {
    "slideshow": {
     "slide_type": "fragment"
    }
   },
   "source": [
    "Write a function that when given an idea, creates a recipe for an award-winning cocktail as an HTML formatted string."
   ]
  },
  {
   "cell_type": "code",
   "execution_count": null,
   "id": "87e9c17d",
   "metadata": {
    "slideshow": {
     "slide_type": "slide"
    }
   },
   "outputs": [],
   "source": [
    "def make_cocktail_v2(idea):\n",
    "    prompt = \"\"\n",
    "    message = \"\"\n",
    "    reply = chat_completion(message, prompt=prompt)\n",
    "    \n",
    "    return reply"
   ]
  },
  {
   "cell_type": "markdown",
   "id": "d53057d2",
   "metadata": {
    "slideshow": {
     "slide_type": "slide"
    }
   },
   "source": [
    "## Exercise 9: Dog Names v2"
   ]
  },
  {
   "cell_type": "markdown",
   "id": "ef989f7b",
   "metadata": {},
   "source": [
    "Write a function that when provided a description of a dog, provides a list of ten potential names as JSON formatted string"
   ]
  },
  {
   "cell_type": "code",
   "execution_count": null,
   "id": "e70c07ca",
   "metadata": {},
   "outputs": [],
   "source": [
    "def make_dog_names_v2(dog_description):\n",
    "    prompt = \"\"\n",
    "    message = \"\"\n",
    "    reply = chat_completion(message, prompt=prompt)\n",
    "    \n",
    "    return reply"
   ]
  },
  {
   "cell_type": "markdown",
   "id": "03e8da13",
   "metadata": {},
   "source": [
    "## Exercise 10: Quiz Maker v2"
   ]
  },
  {
   "cell_type": "markdown",
   "id": "2860a8e3",
   "metadata": {},
   "source": [
    "Write a function that when given information, turns it into a 10 question multiple-choice quiz.\n",
    "\n",
    "It should provide a list of question, choices, and answers as a JSON formatted string.\n",
    "\n",
    "Hints:\n",
    "- Each entry should have the following keys: 'question', 'option_a', 'option_b', 'option_c', 'option_d', 'correct_answer' "
   ]
  },
  {
   "cell_type": "code",
   "execution_count": null,
   "id": "59d5c64e",
   "metadata": {},
   "outputs": [],
   "source": [
    "def make_quiz_v2(text):\n",
    "    prompt = \"\"\n",
    "    message = \"\"\n",
    "    reply = chat_completion(message, prompt=prompt)\n",
    "    \n",
    "    return reply"
   ]
  },
  {
   "cell_type": "markdown",
   "id": "ee875484",
   "metadata": {},
   "source": [
    "## Exercise 11: Dog Names v3"
   ]
  },
  {
   "cell_type": "markdown",
   "id": "5cc43deb",
   "metadata": {
    "slideshow": {
     "slide_type": "slide"
    }
   },
   "source": [
    "- Write a function that when provided a description of a dog, returns a list of ten potential names as Python list.\n",
    "- Call the function with an example description of a dog\n",
    "- Loop through the result and display each name\n",
    "\n",
    "Hint: prompt GPT to return a JSON formatted string, then parse the resulting string into a list and return it."
   ]
  },
  {
   "cell_type": "code",
   "execution_count": null,
   "id": "2d7021f8",
   "metadata": {},
   "outputs": [],
   "source": [
    "def make_dog_names_v3(dog_description):\n",
    "    prompt = \"\"\n",
    "    message = \"\"\n",
    "    reply = chat_completion(message, prompt=prompt)\n",
    "    \n",
    "    # parse as JSON\n",
    "    \n",
    "    # return the parsed result\n",
    "    \n",
    "names = make_dog_names_v2(\"A wolf-like dog. Large. Kind of crazy. But also kinda majestic.\")\n",
    "\n",
    "# Loop through each name and display them\n",
    "# for ...."
   ]
  },
  {
   "cell_type": "markdown",
   "id": "89fd18f6",
   "metadata": {},
   "source": [
    "## Exercise 12: Quiz Maker v3"
   ]
  },
  {
   "cell_type": "markdown",
   "id": "aacc08d1",
   "metadata": {},
   "source": [
    "- Write a function that when given information, provides a list of question, choices, and answers as a list of Python dictionaries.\n",
    "- Loop through each question in the list, display the question, each answer choice, then the correct answer\n",
    "\n",
    "Each output should look something like this:\n",
    "\n",
    "```\n",
    "Question: Which of the following is not a type of loop structure in most programming languages?\n",
    "A) For loop\n",
    "B) While loop\n",
    "C) Do-while loop\n",
    "D) Loop-de-loop\n",
    "\n",
    "Correct Answer: D\n",
    "```\n",
    "\n",
    "Hints:\n",
    "- Each dictionary should have the following keys: 'question', 'option_a', 'option_b', 'option_c', 'option_d', 'correct_answer'  \n",
    "- Prompt gpt to return the correct formatted JSON string\n",
    "- Parse the result and return it\n"
   ]
  },
  {
   "cell_type": "code",
   "execution_count": null,
   "id": "c2bafc2b",
   "metadata": {},
   "outputs": [],
   "source": [
    "def make_quiz_v3(text):\n",
    "    prompt = \"\"\n",
    "    message = \"\"\n",
    "    reply = chat_completion(message, prompt=prompt)\n",
    "    \n",
    "    # parse as JSON\n",
    "    \n",
    "    # return the parsed result\n",
    "\n",
    "text = \"\"\"\n",
    "**Chapter 2: Understanding the Universe**\n",
    "\n",
    "The universe is a vast, complex, and fascinating place. It's so large and diverse that it can be difficult to comprehend. But don't worry, we'll break it down into manageable pieces in this chapter.\n",
    "\n",
    "**Structure of the Universe**\n",
    "\n",
    "The universe is everything that exists, from the tiniest particles to the largest galaxies, and even the very fabric of space and time itself. It's made up of billions of galaxies, each containing billions of stars, along with all the matter and energy in between.\n",
    "\n",
    "The universe is structured in a hierarchical manner. At the largest scale, we have the universe itself. Within the universe, there are clusters of galaxies, which are large groups of galaxies bound together by gravity. Each galaxy contains billions of stars, along with gas, dust, and dark matter. Each star may have a system of planets, asteroids, and comets orbiting around it.\n",
    "\n",
    "**Galaxies, Stars, and Planets**\n",
    "\n",
    "Galaxies are like the cities of the universe. They come in various shapes and sizes, from spiral galaxies like our own Milky Way to elliptical and irregular galaxies. Each galaxy is a bustling metropolis of stars, each one a glowing sphere of hot gas that emits light and heat.\n",
    "\n",
    "Stars are born, live, and die, much like living organisms. They form from clouds of gas and dust, shine for millions to billions of years, and then end their lives in spectacular ways, from fading away as white dwarfs to exploding as supernovae.\n",
    "\n",
    "Planets are the celestial bodies that orbit stars. They're diverse in their compositions and climates, from the rocky, hot planets close to a star, to the gas giants further away, to the icy bodies in the outer reaches of a star system.\n",
    "\n",
    "**Dark Matter and Dark Energy**\n",
    "\n",
    "As we explore the universe, we find that the matter we can see and touch makes up only a small fraction of the universe's total matter and energy. The rest is made up of mysterious substances known as dark matter and dark energy.\n",
    "\n",
    "Dark matter is a type of matter that doesn't emit or interact with light. We know it exists because of its gravitational effects on galaxies and galaxy clusters. Dark energy, on the other hand, is a form of energy that permeates all of space and is driving the universe's accelerated expansion.\n",
    "\n",
    "Understanding the universe is a grand adventure, one that humanity has just begun. As we continue to explore the cosmos, who knows what other wonders we'll discover?\n",
    "\"\"\"\n",
    "\n",
    "quiz = make_quiz_v3(text)\n",
    "\n",
    "for item in quiz:\n",
    "    # print the question\n",
    "    \n",
    "    # print option A\n",
    "    \n",
    "    # print option B\n",
    "    \n",
    "    # print option C\n",
    "    \n",
    "    # print option D\n",
    "    \n",
    "    # print correct answer"
   ]
  },
  {
   "cell_type": "markdown",
   "id": "a98216d5",
   "metadata": {},
   "source": [
    "## Exercise 13: Quiz Answerer"
   ]
  },
  {
   "cell_type": "markdown",
   "id": "7f1ccc40",
   "metadata": {},
   "source": [
    "- Write a function that takes in a question and the four possible answer choices. Using gpt it should return what it thinks is the answer to the question.\n",
    "- It should answer only A, B, C, or D."
   ]
  },
  {
   "cell_type": "code",
   "execution_count": null,
   "id": "150b2f39",
   "metadata": {},
   "outputs": [],
   "source": [
    "def answer(question, option_a, option_b, option_c, option_d):\n",
    "    prompt = \"\"\n",
    "    message = \"\"\n",
    "    reply = chat_completion(message, prompt=prompt)\n",
    "    \n",
    "    return reply\n",
    "\n",
    "question = \"Which of the following is not a type of loop structure in most programming languages?\"\n",
    "option_a = \"For loop\"\n",
    "option_b = \"While loop\"\n",
    "option_c = \"Do-while loop\"\n",
    "option_d = \"Loop-de-loop\"\n",
    "\n",
    "print(answer(question, option_a, option_b, option_c, option_d))"
   ]
  },
  {
   "cell_type": "markdown",
   "id": "ca124e3c",
   "metadata": {},
   "source": [
    "## Exercise 14: Quiz Answerer v2"
   ]
  },
  {
   "cell_type": "markdown",
   "id": "e957c0cf",
   "metadata": {},
   "source": [
    "- Loop through each question, and use the function above to guess whether the answer is A, B, C, or D.\n",
    "- Print each question, answer choice, and selected answer choice by GPT.\n",
    "\n",
    "Each output should look something like this:\n",
    "\n",
    "```\n",
    "Question: Which of the following is not a type of loop structure in most programming languages?\n",
    "A) For loop\n",
    "B) While loop\n",
    "C) Do-while loop\n",
    "D) Loop-de-loop\n",
    "\n",
    "Answer: D\n",
    "```"
   ]
  },
  {
   "cell_type": "code",
   "execution_count": null,
   "id": "def6352d",
   "metadata": {},
   "outputs": [],
   "source": [
    "questions = [\n",
    "    {\n",
    "        'question': 'Which of the following is not a type of loop structure in most programming languages?',\n",
    "        'option_a': 'For loop',\n",
    "        'option_b': 'While loop',\n",
    "        'option_c': 'Do-while loop',\n",
    "        'option_d': 'Loop-de-loop'\n",
    "    },\n",
    "    {\n",
    "        'question': 'What does CPU stand for?',\n",
    "        'option_a': 'Central Processing Unit',\n",
    "        'option_b': 'Computer Processing Unit',\n",
    "        'option_c': 'Central Performance Unit',\n",
    "        'option_d': 'Central Power Unit'\n",
    "    },\n",
    "    {\n",
    "        'question': 'What is the binary system used for in computers?',\n",
    "        'option_a': 'Calculations',\n",
    "        'option_b': 'Data storage',\n",
    "        'option_c': 'Processing',\n",
    "        'option_d': 'All of the above'\n",
    "    },\n",
    "    {\n",
    "        'question': 'What does the \"www\" stand for in a URL?',\n",
    "        'option_a': 'World Wide Web',\n",
    "        'option_b': 'World Web Wide',\n",
    "        'option_c': 'Wide World Web',\n",
    "        'option_d': 'Web World Wide'\n",
    "    },\n",
    "    {\n",
    "        'question': 'What is the primary function of the ALU (Arithmetic Logic Unit)?',\n",
    "        'option_a': 'Perform arithmetic and logical operations',\n",
    "        'option_b': 'Manage memory',\n",
    "        'option_c': 'Control input and output devices',\n",
    "        'option_d': 'Fetch instructions'\n",
    "    },\n",
    "    {\n",
    "        'question': 'What is the main difference between a while loop and a do-while loop?',\n",
    "        'option_a': 'A while loop checks the condition before the loop, a do-while checks it after',\n",
    "        'option_b': 'A do-while loop checks the condition before the loop, a while loop checks it after',\n",
    "        'option_c': 'A while loop only runs once, a do-while runs multiple times',\n",
    "        'option_d': 'A do-while loop only runs once, a while loop runs multiple times'\n",
    "    },\n",
    "    {\n",
    "        'question': 'What does HTML stand for?',\n",
    "        'option_a': 'Hyper Text Markup Language',\n",
    "        'option_b': 'Hyper Transfer Markup Language',\n",
    "        'option_c': 'Hyper Text Multiple Language',\n",
    "        'option_d': 'Hyper Transfer Multiple Language'\n",
    "    },\n",
    "    {\n",
    "        'question': 'What is a function in programming?',\n",
    "        'option_a': 'A reusable piece of code',\n",
    "        'option_b': 'A variable',\n",
    "        'option_c': 'A data type',\n",
    "        'option_d': 'An operator'\n",
    "    },\n",
    "    {\n",
    "        'question': 'What is the purpose of a compiler in programming?',\n",
    "        'option_a': 'To translate high-level language into machine language',\n",
    "        'option_b': 'To debug the code',\n",
    "        'option_c': 'To run the code',\n",
    "        'option_d': 'To write the code'\n",
    "    },\n",
    "    {\n",
    "        'question': 'What is the full form of RAM in computer terminology?',\n",
    "        'option_a': 'Random Access Memory',\n",
    "        'option_b': 'Read Access Memory',\n",
    "        'option_c': 'Randomly Accessed Memory',\n",
    "        'option_d': 'Readily Accessible Memory'\n",
    "    }\n",
    "]\n",
    "\n",
    "# loop through each question, and print the question, answer choices, and the predicted answer"
   ]
  }
 ],
 "metadata": {
  "celltoolbar": "Slideshow",
  "kernelspec": {
   "display_name": "Python 3 (ipykernel)",
   "language": "python",
   "name": "python3"
  },
  "language_info": {
   "codemirror_mode": {
    "name": "ipython",
    "version": 3
   },
   "file_extension": ".py",
   "mimetype": "text/x-python",
   "name": "python",
   "nbconvert_exporter": "python",
   "pygments_lexer": "ipython3",
   "version": "3.9.6"
  }
 },
 "nbformat": 4,
 "nbformat_minor": 5
}
