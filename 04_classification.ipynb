{
 "cells": [
  {
   "cell_type": "markdown",
   "id": "7117f098",
   "metadata": {
    "slideshow": {
     "slide_type": "slide"
    }
   },
   "source": [
    "# Text Classification\n",
    "* **Created by:** Eric Martinez\n",
    "* **For:** 3351 - AI-Powered Applications\n",
    "* **At:** University of Texas Rio-Grande Valley"
   ]
  },
  {
   "cell_type": "markdown",
   "id": "d2ee1ef0",
   "metadata": {
    "slideshow": {
     "slide_type": "slide"
    }
   },
   "source": [
    "## Essential Components\n",
    "\n",
    "What are the main ingredients to solving a problem well with an LLM?"
   ]
  },
  {
   "cell_type": "markdown",
   "id": "a0c488e9",
   "metadata": {
    "slideshow": {
     "slide_type": "fragment"
    }
   },
   "source": [
    "- **Task:** Identify the task you are trying to solve. What are the desired inputs? What are the desired outputs\n",
    "- **Data:** Identify how those inputs make their way to your system once deployed. Identify where your evaluation data will come from.\n",
    "- **Metrics:** Identify the key metrics for evaluating the performance of your solution\n",
    "- **Model:** What model will be used to solve this problem?"
   ]
  },
  {
   "cell_type": "markdown",
   "id": "a1f4f8de",
   "metadata": {
    "slideshow": {
     "slide_type": "slide"
    }
   },
   "source": [
    "## Classification\n",
    "\n",
    "- this is a common task where you need to apply a label to some text\n",
    "- \"categorizing text into buckets\""
   ]
  },
  {
   "cell_type": "markdown",
   "id": "a5047f00",
   "metadata": {
    "slideshow": {
     "slide_type": "slide"
    }
   },
   "source": [
    "## Example Use-Cases\n",
    "- automated labeling\n",
    "- sentiment analysis\n",
    "- automated scoring\n",
    "- analyzing recording transcripts\n",
    "- analyzing customer SMS messages\n",
    "- analyzing incoming chatbot messages\n",
    "- content filtering / safety"
   ]
  },
  {
   "cell_type": "markdown",
   "id": "663862d7",
   "metadata": {
    "slideshow": {
     "slide_type": "slide"
    }
   },
   "source": [
    "## Common Metrics\n",
    "\n",
    "How can we _quantify_ the performance of our model?"
   ]
  },
  {
   "cell_type": "markdown",
   "id": "adc5a86c",
   "metadata": {
    "slideshow": {
     "slide_type": "slide"
    }
   },
   "source": [
    "#### Accuracy\n",
    "\n",
    "Accuracy is the proportion of correct predictions among the total number of cases processed. "
   ]
  },
  {
   "cell_type": "markdown",
   "id": "a0a487e6",
   "metadata": {
    "slideshow": {
     "slide_type": "slide"
    }
   },
   "source": [
    "#### Recall\n",
    "\n",
    "Recall is the fraction of the positive examples that were correctly labeled by the model as positive"
   ]
  },
  {
   "cell_type": "markdown",
   "id": "2fdc1a24",
   "metadata": {
    "slideshow": {
     "slide_type": "slide"
    }
   },
   "source": [
    "#### Precision\n",
    "\n",
    "Precision is the fraction of correctly labeled positive examples out of all of the examples that were labeled as positive. "
   ]
  },
  {
   "cell_type": "markdown",
   "id": "9adc00bb",
   "metadata": {
    "slideshow": {
     "slide_type": "slide"
    }
   },
   "source": [
    "#### F1 Score\n",
    "\n",
    "The F1 metric is the harmonic mean of the precision and recall. It can be calculated as: F1 = 2 * (precision * recall) / (precision + recall)"
   ]
  },
  {
   "cell_type": "markdown",
   "id": "11753ebc",
   "metadata": {
    "slideshow": {
     "slide_type": "slide"
    }
   },
   "source": [
    "## Applied Example: Spam Classification"
   ]
  },
  {
   "cell_type": "markdown",
   "id": "32332f52",
   "metadata": {
    "slideshow": {
     "slide_type": "fragment"
    }
   },
   "source": [
    "We work for a company that is getting an increasingly large amount of spam.\n",
    "\n",
    "Unfortunately, they cannot afford to pay for a commercial email spam detection tool.\n",
    "\n",
    "Given the lowering and lowering cost of GPT-3.5-turbo, you suggest building a GPT based spam detection tool."
   ]
  },
  {
   "cell_type": "markdown",
   "id": "6300d74c",
   "metadata": {
    "slideshow": {
     "slide_type": "fragment"
    }
   },
   "source": [
    "You found a tiny little dataset that you might be able to use to prototype a solution: https://huggingface.co/datasets/TrainingDataPro/email-spam-classification"
   ]
  },
  {
   "cell_type": "markdown",
   "id": "9bb2b8fc",
   "metadata": {
    "slideshow": {
     "slide_type": "slide"
    }
   },
   "source": [
    "#### Essential Components\n",
    "\n",
    "Let's try to fill this out\n",
    "\n",
    "- **Task:** \n",
    "- **Data:** \n",
    "- **Metrics:**\n",
    "- **Model:**"
   ]
  },
  {
   "cell_type": "markdown",
   "id": "9b9b04c8",
   "metadata": {
    "slideshow": {
     "slide_type": "slide"
    }
   },
   "source": [
    "#### Essential Components\n",
    "\n",
    "- **Task:** \n",
    "    - Inputs: subject - text, body - text\n",
    "    - Outputs: is_spam - boolean\n",
    "- **Data:** \n",
    "    - Hugging Face Dataset: https://huggingface.co/datasets/TrainingDataPro/email-spam-classification\n",
    "- **Metrics:**\n",
    "    - Accuracy\n",
    "- **Model:**\n",
    "    - GPT-3.5-turbo"
   ]
  },
  {
   "cell_type": "code",
   "execution_count": null,
   "id": "47513f96",
   "metadata": {},
   "outputs": [],
   "source": [
    "%pip install -r requirements_exercise_04.txt"
   ]
  },
  {
   "cell_type": "markdown",
   "id": "8fe23733",
   "metadata": {
    "slideshow": {
     "slide_type": "slide"
    }
   },
   "source": [
    "#### Visualize our AI model"
   ]
  },
  {
   "cell_type": "code",
   "execution_count": 1,
   "id": "6cdea1e0",
   "metadata": {
    "slideshow": {
     "slide_type": "fragment"
    }
   },
   "outputs": [],
   "source": [
    "from utils.magic import mermaid"
   ]
  },
  {
   "cell_type": "code",
   "execution_count": 2,
   "id": "436c0bc2",
   "metadata": {
    "slideshow": {
     "slide_type": "fragment"
    }
   },
   "outputs": [
    {
     "data": {
      "text/html": [
       "<img src=\"https://mermaid.ink/img/Zmxvd2NoYXJ0IExSCnN1YmdyYXBoIE1vZGVsOiBzcGFtX2NsYXNzaWZpZXIKICAgIGRpcmVjdGlvbiBMUgogICAgcHJvbXB0XzF7IlByb21wdFxuKGdwdC0zLjUtdHVyYm8pIn0KICAgIHRyYW5zZm9ybV8xW1sgcG9zdF9wcm9jZXNzXV0KICAgIElucHV0IC0tPiB8InN1YmplY3QgKHN0cikifCBwcm9tcHRfMQogICAgSW5wdXQgLS0+IHwiYm9keSAoc3RyKSJ8IHByb21wdF8xCiAgICBwcm9tcHRfMSAtLT4gfCJpc19zcGFtIChzdHIpInwgdHJhbnNmb3JtXzEKICAgIHRyYW5zZm9ybV8xIC0tPiB8ImlzX3NwYW0gKGJvb2wpInwgT3V0cHV0CmVuZAo=\"/>"
      ],
      "text/plain": [
       "<IPython.core.display.Image object>"
      ]
     },
     "metadata": {},
     "output_type": "display_data"
    }
   ],
   "source": [
    "%%mermaid\n",
    "flowchart LR\n",
    "subgraph Model: spam_classifier\n",
    "    direction LR\n",
    "    prompt_1{\"Prompt\\n(gpt-3.5-turbo)\"}\n",
    "    transform_1[[ post_process]]\n",
    "    Input --> |\"subject (str)\"| prompt_1\n",
    "    Input --> |\"body (str)\"| prompt_1\n",
    "    prompt_1 --> |\"is_spam (str)\"| transform_1\n",
    "    transform_1 --> |\"is_spam (bool)\"| Output\n",
    "end"
   ]
  },
  {
   "cell_type": "markdown",
   "id": "4a441300",
   "metadata": {
    "slideshow": {
     "slide_type": "slide"
    }
   },
   "source": [
    "#### Spam Classifier - Data"
   ]
  },
  {
   "cell_type": "code",
   "execution_count": null,
   "id": "c66518c4",
   "metadata": {
    "slideshow": {
     "slide_type": "fragment"
    }
   },
   "outputs": [],
   "source": [
    "%pip install datasets"
   ]
  },
  {
   "cell_type": "code",
   "execution_count": 3,
   "id": "6e5945df",
   "metadata": {
    "slideshow": {
     "slide_type": "fragment"
    }
   },
   "outputs": [
    {
     "name": "stdout",
     "output_type": "stream",
     "text": [
      "DatasetDict({\n",
      "    train: Dataset({\n",
      "        features: ['title', 'text', 'type'],\n",
      "        num_rows: 84\n",
      "    })\n",
      "})\n"
     ]
    }
   ],
   "source": [
    "from datasets import load_dataset\n",
    "\n",
    "full_dataset = load_dataset(\"TrainingDataPro/email-spam-classification\")\n",
    "\n",
    "print(full_dataset)"
   ]
  },
  {
   "cell_type": "code",
   "execution_count": 11,
   "id": "843ac239",
   "metadata": {
    "slideshow": {
     "slide_type": "slide"
    }
   },
   "outputs": [
    {
     "name": "stdout",
     "output_type": "stream",
     "text": [
      "{'title': '?? the secrets to SUCCESS', 'text': \"Hi James,\\n\\nHave you claim your complimentary gift yet?\\n\\nI've compiled in here a special astrology gift that predicts everything about you in the future?\\n\\nThis is your enabler to take the correct actions now.\\n\\n>> Click here to claim your copy now >>\\n\\nClaim yours now, and thank me later.\\n\\n\\nLove,\\nHeather\", 'type': 'spam'}\n"
     ]
    }
   ],
   "source": [
    "# Print one sample\n",
    "print(full_dataset['train'][0])"
   ]
  },
  {
   "cell_type": "markdown",
   "id": "d19d4fa4",
   "metadata": {
    "slideshow": {
     "slide_type": "slide"
    }
   },
   "source": [
    "#### Let's load up a cleaned-up version of the dataset\n",
    "\n",
    "Each example will have the following format:\n",
    "    \n",
    "```\n",
    "{\n",
    "    \"inputs\": ...\n",
    "    \"outputs\": ...\n",
    "}\n",
    "```"
   ]
  },
  {
   "cell_type": "code",
   "execution_count": 5,
   "id": "422369a9",
   "metadata": {
    "slideshow": {
     "slide_type": "slide"
    }
   },
   "outputs": [],
   "source": [
    "from utils.example_data import load_email_spam_dataset"
   ]
  },
  {
   "cell_type": "code",
   "execution_count": 6,
   "id": "8aa9cb2b",
   "metadata": {
    "slideshow": {
     "slide_type": "fragment"
    }
   },
   "outputs": [
    {
     "name": "stdout",
     "output_type": "stream",
     "text": [
      "{'train': [{'inputs': {'subject': 'Your uploaded document is rejected', 'body': 'View In Browser | Log in\\n \\n \\n\\nSkrill logo\\nMoney movers & makers\\n\\n \\n?? Hi Anggraeni Dyah\\nWe couldn�t verify your address\\nSkrill\\nDocument doesn�t meet criteria\\n \\nProblem: We couldn�t verify your address because your document doesn�t meet the required criteria.\\nSolution: Send a proof of address that meets the requirements listed below or try sharing your location in the Skrill app.\\n  \\n  Send document    \\nIt�s easier to verify your address with the Skrill mobile app. Just share your location to get confirmation right away.\\n  \\nplay store\\n \\napp store\\n \\n?? We accept the following proof of address documents:\\n? utility bill (for heating, electricity, water, cable, landline telephone, sewer, gas, etc.)\\n? statement from your financial institution - bank, credit or debit card, mortgage, insurance, investments. We don�t accept statements from purely online financial institutions.\\n? a signed and stamped letter from your financial institution confirming your account with them, your residential address, and your full name;\\n? any government correspondence, including tax documents, court documents;\\n? your valid identity document if it contains the address registered in your Skrill account;\\n?? To complete your verification quickly, make sure that the address in your account is full and accurate and:\\n? the document has been issued within the past 90 days;\\n? the document is clear and readable and includes all 4 corners and 4 edges of the page;\\n? the document contains your full name, current residential address, issue date and the issuer�s name and logo/insignia;\\n? the document is in .jpg, .jpeg, .bmp, .gif, .png, or .pdf format;\\n?? Check other reasons why your verification document might be rejected.\\nThank you for choosing Skrill\\nCopyright � 2021 Skrill Limited. Skrill is a registered trademark of Skrill Ltd. All rights reserved.\\n\\nSkrill Limited is registered in England and Wales with company number 04260907 and its registered office is at 2 Gresnot spam Street, London EC2V 7AD. Authorised and regulated by the Financial Conduct Authority under the Electronic Money Regulations 2011 (FRN: 900001) for the issuance of electronic money.\\n\\nWe use cookies and similar technology in some of our emails which contain hyperlinks, each of which has a unique tag. They help us to understand a little bit about how you interact with our emails, and are used to improve our future email communications to you. If you click on links contained in this email it will allow us to track your use of our website. For more information about our use of cookies and similar technology please see our Cookies Notice.\\n\\nIn accordance with relevant Data Protection and Privacy laws, Paysafe is committed to protecting your privacy. If you wish to know more, please access our Privacy Policy.\\n\\nThe Skrill prepaid Mastercard� is issued by Paysafe Financial Services Ltd in selected countries pursuant to a license from Mastercard International. Mastercard� is the registered trademark of Mastercard International.\\n\\nTo ensure that Skrill emails reach your inbox, please add no-reply@email.skrill.com to your email safe list.\\n\\nBox-D\\nAbout\\n|\\nSupport\\n|\\nSecurity\\n|\\nPrivacy\\n|\\nTerms\\n'}, 'outputs': {'is_spam': False}}, {'inputs': {'subject': 'Venmo primary email address changed', 'body': \"venmo\\nHi Maliek Folks, \\n\\nThe primary email address for your Venmo account was recently changed. \\n\\nIf this wasn�t you or you believe an unauthorized person has accessed your account, please immediately reset your password. Then, contact us by replying to this email so we can confirm your account is secure. \\n\\nTo reset your password tap �Forgot your password?� on the sign-in screen in the mobile app or visit www.venmo.com from a computer. \\n\\nThanks,\\nTeam Venmo\\nVenmo is a service of PayPal, Inc., a licensed provider of money transfer services. All money transmission is provided by PayPal, Inc. pursuant to PayPal, Inc.'s licenses.\\nPayPal is located at 2211 North First Street, San Jose, CA 95131\"}, 'outputs': {'is_spam': False}}, {'inputs': {'subject': 'Limited offer. Hurry up!', 'body': '\\nLess than $1 for any of our 214 million amazing stock photos and illustrations. Now that�s a deal you can�t refuse.\\n\\nPrices are in USD.'}, 'outputs': {'is_spam': True}}, {'inputs': {'subject': 'Reply to your CPX Research Ticket!238212', 'body': 'Hello Sathya Narayanan,\\n\\nOur Team reply to your Ticket from 2023-06-17 07:05:04. To see the reply please click here:\\n\\nhttps://offers.cpx-research.com/ticket.php?tid=238212&hash=SHMykfq0usB8LLuAp635Y67LR1yIGCSIqwn8BUT5GcoZNQn69QQUaBrgpbmrcblui34exLAzIlz6ks4ebBXPdYyOIZNXnHipRSlU2wCTVp8AcVAQaYVm0ul0yCCAGA3QjJw7rbrMhQyU0uPL2XdmQ\\n\\nYour CPX Research Customer Happiness Team\\nPS: Always read and answer surveys careful, there might be hidden test questions checking if you pay attention. Also if youre replying too fast, some partners will not pay your reward. tickethash=SHMykfq0usB8LLuAp635Y67LR1yIGCSIqwn8BUT5GcoZNQn69QQUaBrgpbmrcblui34exLAzIlz6ks4ebBXPdYyOIZNXnHipRSlU2wCTVp8AcVAQaYVm0ul0yCCAGA3QjJw7rbrMhQyU0uPL2XdmQ=tickethash\\n'}, 'outputs': {'is_spam': False}}, {'inputs': {'subject': 'June 2023 Account Statement ', 'body': 'Dear Mr. UZOCHUKWU JOSEPH EZE,\\n\\nYour statement of account for June 2023 is now available (see attached).\\n\\nPlease note that the password required to access your account statement(s) is your default (main) account number.\\n\\n\\nFor any feedback or enquiries, please call our multilingual Contact Center on 01-2712005-7 or send an email to contactcenter@accessbankplc.com\\n\\nThank you for choosing Access Bank\\n\\n\\nYou can still register for your Bank Verification Number (BVN) at all our branches in Lagos, Abuja, Port Harcourt and other Access Bank Branches across the country. Please visit our website www.accessbankplc.com for a full list of our enrolment centers\\n\\nClick here to unsubscribe  '}, 'outputs': {'is_spam': False}}, {'inputs': {'subject': 'Verify your Twitch email address', 'body': 'Hey fanat_papicha_nomer_1, please verify your e-mail address!\\nSomeone (hopefully you) has used this email at Twitch. Please click the button below to verify your ownership of this email for the account, fanat_papicha_nomer_1. You will not be able to receive email notifications until you do so.\\n\\nVerify your email\\nOr click on this link: https://www.twitch.tv/user/verify_email?email_verification_code=3f4b3e6c4&login=fanat_papicha_nomer_1\\n� 2017 Twitch. All Rights Reserved.'}, 'outputs': {'is_spam': False}}, {'inputs': {'subject': 'Linton, take the next step on your Windows device by confirming your Google Account settings', 'body': 'Thanks for signing into Google on your Windows device.\\nPlease confirm your Google Account settings are still right for you.\\n\\nComplete the Privacy Checkup\\nThis step-by-step guide helps you choose the privacy settings that are right for you.\\nComplete\\n\\nComplete the Security Checkup\\nThe Security Checkup gives you personalised recommendations to secure your account.'}, 'outputs': {'is_spam': False}}, {'inputs': {'subject': 'amazon.com.tr, action needed: Sign-in', 'body': '\\nLogo Image\\nSenol Yildirim,\\n\\nSomeone signed-in to your account.\\n\\nWhen: Jul 06, 2023 07:34 PM Turkey Time\\nDevice: Amazon Shopping App for Android\\nNear: Manisa, Turkey\\nIf this was you, you can disregard this message. Otherwise, please let us know.'}, 'outputs': {'is_spam': False}}, {'inputs': {'subject': 'English', 'body': 'RTD to iiiiiiuiiiiiiiiiiiii'}, 'outputs': {'is_spam': True}}, {'inputs': {'subject': 'English', 'body': 'Sfhdg to iiiiiiuiiiiiiiiiiiii to'}, 'outputs': {'is_spam': True}}, {'inputs': {'subject': 'New jobs posted from Plan International', 'body': 'You are receiving this email because you joined the Plan International Talent Community on 10/07/20. You will receive these messages every 2 day(s).\\n\\nThe following jobs matched your search criteria at Plan International and can be found at jobs.plan-international.org.\\n\\nYour Agent/Keywords:\\nVolunteer\\nClick to edit'}, 'outputs': {'is_spam': False}}, {'inputs': {'subject': 'Microsoft Outlook Test Message', 'body': 'This is an email message sent automatically by Microsoft Outlook while testing the settings for your account.'}, 'outputs': {'is_spam': False}}, {'inputs': {'subject': 'SFI Weekly News (July 17, 2023)', 'body': \"Greetings from SFI...let's keep building something great!\\n\\nIMPORTANT! If you haven't checked out our MAJOR re-shaping of the SFI Affiliate Program, read Gery's detailed announcement now:\\n\\nhttps://www.sfimg.com/forum/thread?id=240777\\n\\n------------------------------------------------------------------------------------------------------------\\n\\n\\nNEW GENEALOGY FEATURES\\n\\n1. To make doing mailings to your PSAs and CSAs super easy, we've added small envelope icons to the Genealogy Summary panel.\\n\\n� To send a group mailing to your PSAs, just click the envelope icon beside your PSAs.\\n\\n� To send a group mailing to your CSAs, click the envelope icon beside your CSAs. NOTE: Minimum rank of Gold Builder required to use the CSA Mailer.\\n\\n2. With the new system, focus should primarily be on those currently IN the Share-Tech� network. Hence, effective shortly, when you go to the Genealogy, it will, by default, display the CONDENSED version. The Condensed version will now display ONLY EAs (from previous month and current month) + affiliates who are still in their free 30-day trial window (i.e. those in the Share-Tech� network). If you wish to see ALL your affiliates�including those who've forfeited their Share-Tech� position,�just click on the FULL version Genealogy link.\\n\\n3. If you had any POAs, they are now being converted to PSAs.\\n\\nEven more features and modifications to make the Genealogy as easy to use as possible are coming soon.\"}, 'outputs': {'is_spam': True}}, {'inputs': {'subject': 'Your Amazon.com order of \"Nike Youth Dunk Low Ls GS...\".', 'body': \"Amazon \\nOrder Confirmation\\nHello Maliek,\\n\\nThank you for shopping with us. We�ll send a confirmation when your item ships.\\nDetails\\nOrder #111-9728320-6549862\\n\\nArriving: \\nThursday, July 6 - \\nMonday, July 10\\n\\nSomeone must be present for delivery\\n\\n\\nView or manage order\\nShip to: \\nMaliek \\nNORFOLK, VA \\n\\nOrder Total:\\n$211.99\\n\\n  Nike Youth Dunk Low Ls GS F... \\nQty : 1 \\nWe hope to see you again soon.\\n\\nAmazon.com\\nKeep shopping for\\nHohem iSteady M6 Kit Smartphone Gimbal Stabilizer 3-Axis with Magnetic Fill Light AI Tracking Sensor for iPhone Android with  \\nHohem iSteady M6 Kit Smartphone...\\n$209.00\\nThe payment for your invoice is processed by Amazon Payments, Inc. P.O. Box 81226 Seattle, Washington 98108-1226. If you need more information, please contact (866) 216-1075\\n\\nBy placing your order, you agree to Amazon.com�s Privacy Notice and Conditions of Use. Unless otherwise noted, items sold by Amazon.com are subject to sales tax in select states in accordance with the applicable laws of that state. If your order contains one or more items from a seller other than Amazon.com, it may be subject to state and local sales tax, depending upon the seller's business policies and the location of their operations. Learn more about tax and seller information.\\n\\nThis email was sent from a notification-only address that cannot accept incoming email. Please do not reply to this message.\\n\"}, 'outputs': {'is_spam': False}}, {'inputs': {'subject': 'SIR15112294- Your request for content review on Microsoft', 'body': 'This is an automated message to let you know we have received your request to investigate content on Microsoft services .\\n\\n \\n\\nSincerely,\\n\\n \\n\\nMicrosoft Customer Protection'}, 'outputs': {'is_spam': False}}, {'inputs': {'subject': 'Meeting with Walid TOMORROW', 'body': 'Hello Walid,\\n\\nOur Zoom call meeting is tomorrow - Thursday, July 20th at 3pm EST (New York time).\\n\\nRegister for your free space here\\n\\nIt\\'s called \"Money While You Sleep\".\\n\\nYou\\'ll learn how it\\'s possible to earn an income, automatically, 24 hours a day (yes, even while you sleep!).\\n\\nThe host will reveal this little-known, almost secret, side hustle income which is enabling ordinary people - just like you and me - to make $5000+ per month from working just 3-4 hours per week.\\n\\nThe host will explain, step-by-step, how you can easily \"clone\" this simple yet highly profitable side hustle for yourself.\\n\\n- No experience or special skills needed\\n- Quick and easy to get up and running\\n- All you need is internet access\\n\\nDue to technical limitations, only a certain number of participants can attend. So if you\\'d like to attend this special Zoom call (it\\'s FREE), then click the link below.\\n\\nRegister for your free space here\\n\\nRegards,\\n\\nAlex'}, 'outputs': {'is_spam': True}}, {'inputs': {'subject': 'The Last Call!', 'body': 'Dear Customer,\\n\\nAs the tax season comes to a close, this is the final call to file your 2022 tax returns.\\n\\nThere are only a few hours left.\\n\\nTake immediate action and file now before the deadline expires.\\n\\nLog on to itax.kra.go.ke NOW! Kumbuka kufile returns ni rahisi kuliko kufanya project za CBC.\\n\\nDeadline to file is today, 30th June 2023.\\n\\nWe are here to serve you, call us on: 020 4 999 999 or 0711 099 999 or email: callcentre@kra.go.ke\\n\\nIf you have filed your returns, kindly ignore this message.\\n\\nThank you for your attention and cooperation. We wish you a successful completion of your tax filing obligation.'}, 'outputs': {'is_spam': True}}, {'inputs': {'subject': 'Your Account Was Accessed From a New Device', 'body': \"We noticed a new login\\nHello ondiekijohn254@gmail.com, we noticed an unusual login from a device or location you don't usually use.\\nWas this you?\"}, 'outputs': {'is_spam': True}}, {'inputs': {'subject': 'Celebrate 15 years of the Bible App!', 'body': 'How has God used the Bible App to impact your life? Maybe it�s a Verse of the Day that spoke to you in a difficult season, or a prayer that you read at just the right time.\\n\\nThe Bible App has become the world�s most widely used and trusted digital Bible reading tool.\\n\\nToday, we�re celebrating the Bible App�s 15-year anniversary!\\nWhat started as an idea in an airport security line has become a global movement that�s reaching people everywhere�including you.\\n\\nCelebrate what God is doing through His Word by reflecting on this special Daily Refresh.'}, 'outputs': {'is_spam': False}}, {'inputs': {'subject': 'Your application for the position of  Child Protection in Emergencies Specialist, Maiduguri - Nigeria', 'body': 'Dear Maryam, \\n\\n \\n\\nI would like to thank you for your application for the role of Child Protection in Emergencies Specialist, Maiduguri - Nigeria and for your interest in Plan International.\\n\\n \\n\\nWe regret to inform you that on this occasion you have not been successful in your application. However, there may be other positions which are more suitable for your skills. Please feel free to view all of our current vacancies on our we'}, 'outputs': {'is_spam': False}}, {'inputs': {'subject': 'Hello lun New message from PhebeHotHoney', 'body': \"Adult Dating\\n\\nDiscover the best site for singles looking for love!\\n\\n??\\nI hope you're the right person I'm looking for, because since I've become single I miss the company of a man in my bed.\\n\"}, 'outputs': {'is_spam': True}}, {'inputs': {'subject': 'Notification ', 'body': 'Sir, this is to notify you that our shipment has arrived the office '}, 'outputs': {'is_spam': False}}, {'inputs': {'subject': 'Re: New Job Openings at International Livestock Research Institute (ILRI)', 'body': 'Hi John\\nNEW JOB OPENINGS\\nHere are the latest job openings at International Livestock Research Institute (ILRI):\\nJob Title Research Officer I - Socio-Economics - Internal/External\\nLocation Addis Ababa, Ethiopia'}, 'outputs': {'is_spam': False}}, {'inputs': {'subject': 'Congratulations! You have been selected for a special scholarship from Unicaf ', 'body': \"Dear Joseph Alex Eze\\n \\nWe are pleased to inform you that as part of Unicaf�s 10-year anniversary, you have been selected for a special scholarship which will allow you to study towards a British Master�s degree of your choice for only ?1,950.\\n \\nWe are excited to have you join us and believe that this program will provide you with the skills and knowledge you need to succeed in your chosen field. More than 90% of our graduates are in employment or have earned a higher salary.\\n \\nWe believe that this opportunity will allow you to pursue your educational goals without the financial burden that accompanies a Master's degree programme. We encourage you to take advantage of this offer and join us in the pursuit of knowledge and academic excellence by replying to this email.\\n \\nTo take advantage of this offer please quote to your Adviser the code NG1950.\\n \\n \\nSincerely,\\nOlusegun Onyinyechi\\nYour Scholarship Adviser \"}, 'outputs': {'is_spam': False}}, {'inputs': {'subject': 'Get the Competitive Edge: ?? Project-Winning Strategies Revealed', 'body': \"Hi rehan\\n\\n \\n\\nWe're just over halfway through the year and we thought we'd check in on how things are going for you.\\n\\n \\n\\nHave you been successful in winning projects and earning more compared to last year? Or are you still working towards that first big win?\\n\\n \\n\\nNo matter where you are in your journey, we've got something exciting for you. We're bringing you three new videos from our top freelancer, Matt Starky. These videos are packed with valuable tips and tricks that will benefit both beginners and those who already have 50 projects under their belts. Matt shares his proven strategies to win projects, even if you lack certain skills.\\n\\n \\n\\nBy incorporating some of these methods into your own routine for winning projects, you'll be on the fast track to becoming your own boss as a freelancer.\"}, 'outputs': {'is_spam': True}}, {'inputs': {'subject': 'Gut Health & Weight Loss Plan - Role of Supplement', 'body': 'Hi Maryam,,\\n\\nPlease find the information on the role of the supplements we take during the program.\\n\\nThe Supplements are high quality nutritional support assisting to Heal & Repair our Gut. The three key reasons we have the supplements are:\\n\\n- The primary reason is to balance your hormones � particularly your insulin levels. (Insulin being responsible for fat uptake in the cells � especially your liver cells). Once your hormones are balanced your body can in fact learn to lose weight and efficiently, and keep it off. As well as with the weight loss you will find your moods become much more stable, anxiety levels decrease, your skin becomes clearer, your head and your thoughts become clearer, and your energy levels will soar (no more naps in the afternoon � it�s very liberating).\\n\\n- Secondly the nutrition is responsible for cleaning your Gut. The vast majority of illnesses today stem from poor gut flora. Our program will clean up your Gut, allow your villae (finger-like protrusions on the inner wall of your intestine responsible for increasing the surface area for absorption of nutrients into your bloodstream) to stand up and work to their full potential.\\n\\n- Thirdly, the nutrition is responsible for keeping your skin�s elasticity after the weight loss. (This does depend on how much weight you need to lose, we have had some people lose 60-80kg, and as a result they may need further assistance and treatment for their skin)\\n\\nThis is why supplements are important. The nutrition in the supplements is responsible for supporting your gut. Our program will support your gut, allow your villae (finger-like protrusions on the inner wall of your intestine responsible for increasing the surface area for absorption of nutrients into your blood stream) to stand up and work to their full potential.\\n\\nThe supplements we use for the program are manufactured by M?dere which is well known for using superior products. Their stringent testing is commendable. M?dere products also have a massive absorption rate, up to 90%. Their products work in synergy with each other, which is the reason they are so effective. And they�re all toxin and chemical free, plant based and most importantly they are not weight loss medicines.\\n\\nThis program is a gut-healing program that is extremely successful in such a short time frame due to the synergy between the high absorption quality supplements & the alkaline meal plan. They work hand in hand so that you don�t cause long-term damage & nutritional deficiencies. The awesome results you achieve are because the incredible nutrition works so well with our Alkaline meal plan.\\n\\nLet me know if you�ve got any questions!\\n\\nThanks & Regards'}, 'outputs': {'is_spam': False}}, {'inputs': {'subject': 'Update: New Twitch Account Linked', 'body': 'Dear denis:\\n\\nYour Amazon account: denis.supermen888@gmail.com has been linked to the Twitch account: fanat_papicha_nomer_1.\\n\\nIf you did not initiate the link to a Twitch account, someone else may be trying to access your account.\\n\\nIf you suspect someone else may be attempting to access your account, please:\\n\\nGo to Amazon.com and change your password as soon as possible.\\nTo remove the link between Amazon and Twitch accounts, visit Manage Twitch Account Settings.\\nThanks for helping us maintain the security of your account. Amazon Support\\n\\nNote: this email address cannot accept incoming email. Please do not reply to this message, contact us here.\\n\\nSupport | Privacy Policy\\nCopyright � 2016 Amazon.com. All rights reserved.'}, 'outputs': {'is_spam': False}}, {'inputs': {'subject': 'denis : Your Amazon Prime Membership Cancellation', 'body': \"Your Amazon Prime free trial has been cancelled.\\n\\n\\n\\nAmazon.com \\n\\nYour Amazon    |  Today's Deals    |  Gift Cards\\n\\n\\n\\n\\nHello denis,\\n\\nWhen you sign up for an Amazon Prime free trial, we require a valid card to ensure that your membership can upgrade to a paid plan at the end of the trial period. There is an outstanding issue with the credit card you provided and we cannot charge you for the annual membership fee. As a result, your Amazon Prime free trial has been canceled.\\n\\nIf you'd like to join Amazon Prime again, start a paid membership by signing-up during checkout or visiting the Amazon Prime page.\\n\\nThank you,\\n\\nAmazon.com Customer Service\\n\\n\\n\\n  Start a New Prime Membership   \\n\\n\\n\\n\\n� Amazon.com, Inc. or its affiliates. All rights reserved. Amazon, Amazon.com, Prime, the Amazon.com logo and 1-Click are registered trademarks of Amazon.com, Inc. or its affiliates. Amazon.com, 410 Terry Avenue N., Seattle, WA 98109-5210.\\n\\nThis message was sent to: denis.supermen888@gmail.com\\n\\n\\n\"}, 'outputs': {'is_spam': False}}, {'inputs': {'subject': 'Your Kilimall Account is Ready - Shopping Now!', 'body': \"Dear Customer,\\n\\nWelcome to Kilimall, Thanks so much for joining us.\\n\\nKilimall is Africa's largest online shopping mall. We launched in July 2014 and our mission is to become the best E-commerce platform in Africa. We serve a retail customer base that continues to grow exponentially, offering products that span various categories including Phones, Computers, Clothing, Shoes, Home Appliances, Books, healthcare, Baby Products, personal care and much more.\\n\\nShop Now\"}, 'outputs': {'is_spam': False}}, {'inputs': {'subject': '?? the secrets to SUCCESS', 'body': \"Hi James,\\n\\nHave you claim your complimentary gift yet?\\n\\nI've compiled in here a special astrology gift that predicts everything about you in the future?\\n\\nThis is your enabler to take the correct actions now.\\n\\n>> Click here to claim your copy now >>\\n\\nClaim yours now, and thank me later.\\n\\n\\nLove,\\nHeather\"}, 'outputs': {'is_spam': True}}, {'inputs': {'subject': 'Your Steam account: Access from new web or mobile device', 'body': \"Dear vladis163rus,\\nHere is the Steam Guard code you need to login to account vladis163rus:\\n\\n6VCC5\\nThis email was generated because of a login attempt from a web or mobile device located at 178.69.155.179 (RU). The login attempt included your correct account name and password.\\n\\nThe Steam Guard code is required to complete the login. No one can access your account without also accessing this email.\\n\\nIf you are not attempting to login then please change your Steam password and consider changing your email password as well to ensure your account security.\\n\\nIf you are unable to access your account then you may choose to lock your account. Once locked you must request Steam Support's assistance in recovering and unlocking it. Until the account is unlocked you will be restricted from accessing many of Steam's features including online gameplay in VAC enabled games.\\n\\nThe Steam Support Team\\nhttps://help.steampowered.com/\\nVALVE � Valve Corporation. All rights reserved. All trademarks are property of their respective owners in the US and other countries.\\n\"}, 'outputs': {'is_spam': False}}, {'inputs': {'subject': 'Style with Denim', 'body': 'Comfortable & Durable\\nLove, Bonito\\nNEW IN  BESTSELLERS\\n\\nJust the thing for every kind of personality there is. Time to shine in this wardrobe classic.\\nSHOP DENIM\\nHere�s How to Style Denim\\nModel-off-duty look: Denim Jeans + White Top\\nElevate your look instantly by layering on a blazer or matching the outfit to a pair of heels.\\n\\n\\n\\nGET THE LOOK\\nFuss-free pairing: Denim + different fabric\\nDenim works with just about any fabric, pattern or texture.\\n\\n\\nPICK YOUR PAIRING\\nContrast with colour: Denim + pop of colour\\nThink electric blue, vibrant red, sunny yellow, hot pink, or emerald green.\\n\\n\\nADD TO CART\\nOr go full on denim\\nComplete with sneakers or heels, depending on the occasion.\\n\\n\\nMAKE YOUR STATEMENT\\nABOUT US\\nSTORES\\nPROMOTIONS\\nFAQ\\nfb  ig  yt\\nLove, Bonito is a registered trademark of LOVEBONITO HOLDINGS PTE LTD. You are receiving this email because you subscribed or opted in at our website. We�d hate to see you go, but you can unsubscribe at anytime here.\\n\\nHave trouble viewing this email? Click here.\\n\\n'}, 'outputs': {'is_spam': True}}, {'inputs': {'subject': 'You applied to job post Translation_ISAAC_Acceptability_tr_TR-en_US', 'body': 'Hello there!\\n\\nYou have started the application process for job post Acceptability - Translation Raters needed (Turkish-English) (job ID Translation_ISAAC_Acceptability_tr_TR-en_US ).\\n\\nYou can see the current status of your application on the My Jobs page on our user portal.\\n\\nPlease make sure that you complete all potential additional requirements (such as certifications) that are needed to complete the application process.\\n\\nGood luck with your application, and all the best! :-)'}, 'outputs': {'is_spam': False}}, {'inputs': {'subject': 'Feedback Request: How are we doing?', 'body': \"Share your Respondent feedback\\nYour feedback means the world to us. If you don't mind, please take a minute to tell us how we're doing. Thank you!\\n\\nHow likely are you to recommend\\nRespondent to a friend or colleague?\\n0\\n?\\n1\\n?\\n2\\n?\\n3\\n?\\n4\\n?\\n5\\n?\\n6\\n?\\n7\\n?\\n8\\n?\\n9\\n?\\n10\\n0: Not at all likely 10: Extremely likely \\nRespondent, Inc.   PO Box 4668 #57891    New York,  New York   10163   \\n\\nUpdate your email preferences to choose the types of emails you receive.\\n\\n\"}, 'outputs': {'is_spam': False}}, {'inputs': {'subject': 'Get ready for Test [Co-Deo]', 'body': 'Hello Sathya,\\n\\nYou have been invited to participate in a video discussion for Co-Deo community.\\nBelow are the details of the event.\\n\\nDiscussion name: Test\\n\\nDate and time: Jun 30 2023, 15:18 - Jun 30 2023, 19:18 (Atlantic/St_Helena)\\n\\nVideo Discussion Link: Join Meeting\\n\\n\\nWe look forward to your participation in the discussion.\\n\\nThank you,\\n\\nCo-Deo'}, 'outputs': {'is_spam': False}}, {'inputs': {'subject': '10-1 MLB Expert Inside, Plus Everything You Need To Have A BLOCKBUSTER Saturday', 'body': 'Hey Prachanda Rawal,\\n\\nToday\\'s newsletter is Jam-Packed with everything you need to have a BLOCKBUSTER day, including an Insider Play, video picks, two Spotlight games, and Special Insider Deals. Just our way of saying thanks for being an Insider, so strap in, and let\\'s have a GREAT Saturday.   \\n____________________________________________\\nExpert Of The Day - Andre\\' IFill\\n\\nAndre \"The Tower\" Ifill is on another Strong MLB and he will keep it rolling today. Andre comes in off a perfect 5-0 day on the MLB Diamond and he is now 10-1 in his last 11. Now that is one heck of a run. Today, Andre has zeroed in of a HUGE MLB play that he is calling his Saturday Sizzler. Best Of All, This play is your\\'s for just $14.00.\\n \\n\\nCLICK HERE To Get Andre\\'s Saturday Sizzler For Just $14.00\\n\\nCLICK HERE To Get A Week Of Andre\\'s MLB Plays For Just $59.00 \\n\\n\\n\\n\\n\\n\\n\\n\\n\\n\\nSpecial Offer From Ceasars\\n \\nReady to go Full Caesar? Place your first bet of $10 or more. If it doesn\\'t win, Caesars will refund your bet up to $1250. And now they\\'ve sweetened the pot! Win OR lose you will get 1,000 reward credits AND 1,000 Tier credits! Now, THAT\\'S Full Caesar! Use promo code WINNERSFULL and sign up today! CLICK HERE\\n \\nDisclaimer: 21+. Terms and conditions apply\\nToday\\'s Top Spotlight Game\\nBraves vs Reds by James Boutros\\n\\n\\n\\n\\n\\n\\n\\n\\n\\n\\n\\n\\n\\nThe Atlanta Braves will be on the road as they take on the Cincinnati Reds. Jared Shuster will take the mound for the Braves. Granot spam Ashcraft is expected to be the starting pitcher for the Reds. Jared Shuster is expected to start for the Braves. He went 5.2 innings and gave up five hits, three walks, one earned run, and struck out two in a win in his last start against the Colorado Rockies. On the season, he has a record of 4-2 with a 4.57 ERA, 1.38 WHIP, and a 23/22 K/BB ratio in eight starts. Opposing batters are hitting .233 against Shuster.\\n\\nThe Braves have been very good on offense this season. They are top 10 in the league in runs, hits, home runs, RBIs, batting average, OBP, SLG, and OPS. Matt Olson leads the team in home runs. Ronald Acuna leads the team in runs, hits, and stolen bases. Acuna is top five in the MLB in runs, hits, and stolen bases... CLICK HERE to finish reading and see our PREDICTION on this contest.\\n\\n\\n\\nCLICK HERE to see our PREDICTIONS on all of Today\\'s MLB Action. \\n\\n\\n\\nLooking To Bet This Game? Check Out These Incredible Sportsbook Offers - CLICK HERE\\n\\n\\n\\n\\nWill Rogers wants to tell you a secret. Ready? Here it is. CFL LINES PROVIDE THE MOST EXPLOITABLE ADVANTAGES OF ANY SPORT! Will has done exactly that so far this year, going a strong 6-1 on the CFL season so far. If you�re jonesing for football and you like soft lines, this  100% GUARANTEED CANADIAN CRUSHER is for you. Just $30.00. CLICK HERE\\n\\n\\n\\n\\n***JOIN Our Discord Community***\\n\\nWe know these cappers are hot, but don�t let the fun end here! Click the links below to follow us on Twitter and join our Discord Community, as we aim to take down the books. We�re cashing in on  Picks, Parlays, contests, and more! This is your chance to talk to our experts and show off your skills. If you like next-level sports betting conversations, this is the place for you.\\n\\nCLICK HERE To Join The Community\\nOur Expert Video Picks\\nEveryday our Expert Handicappers prepare a daily Pick video for you! Each is just a few minutes long and covers their analysis on the game.\\n\\nCLICK HERE to watch Today\\'s Videos on YouTube.\\nToday\\'s Spotlight Game #2\\nAstros vs Dodgers by Andre\\' IFill  \\n \\n\\n\\n\\n\\n\\nFor anyone with chores on Saturday, take out the trash early. The Houston Astros (41-34) and Los Angeles Dodgers (41-33) are set to bang on Saturday night as they continue their weekend series. Dodger Stadium is hosting, and there won\\'t be a shortage of cameras catching every angle. The first pitch on Saturday is scheduled for 7:15 p.m. EDT and FOX will have the broadcast as they did for their infamous 2017 World Series battle. These two dugouts will do whatever it takes for a win right now, as they are both barely clinging to playoff spots. Let\\'s see the lengths they\\'re willing to go.\\n\\n\\n\\n\\nThere isn\\'t a club in the majors with a lower ERA than the Houston Astros. The bullpen is impressive, with top 10 marks in ERA, FIP, and WAR. However, the starting rotation is how the Astros won it all last season, and they\\'ve also been stellar in 2023. Unfortunately, injuries have taken their toll, thrusting Ronel Blanco into the rotation temporarily. As a starter this season, he\\'s thrown 17.0 innings. In that time, he\\'s allowed 17 hits, nine walks, five homers, and nine earned runs. His road ERA is 6.30, mostly due to one disastrous relief appearance in April... CLICK HERE to finish reading and see our PREDICTION on this contest. \\n\\nAnother day, another solid 2-1 performance from Mike �Big Game� Briggs, running his major league heater to 14-4 in his last 18 Premium Plays. No one has spent more time atop the leaderboard than Briggs and if you haven�t given him a shot, today�s 100% GUARANTEED MLB MAX UNIT MONSTER is the perfect opportunity to do just that. This game goes at 1:10 ET and it is just $24.00. CLICK HERE\\nInsider\\'s Exclusive Pick\\nWe Got Back On Track Yesterday\\nOur Freebie yesterday was on the Under 9 in the Minnesota/ Detroit game and it was an easy winner as just five runs were scored in the contest. We will look to Keep It Rolling today with a FREE play from Caleb Davis.  \\n\\nFree Pick: Angels/ Rockies Over 12\\n\\n\\n\\n\\n\\n\\n\\n\\n\\n\\n\\nThe Angels have been able to hit the long ball well all season, and during night games they\\'ve managed to do so even more. Colorado is sitting right around the top 10 in overall batting average and appears to have found their swing of late, racking up 13 runs in their last three games and hitting 21 homers in 20 June contests. Colorado isn\\'t foreign to giving up runs either and with the Angels\\' ability to drive runners in they should do so. Canning has had ball control issues at times this season and if the Rockies are able to make him work on the mound, they should like their chances to continue their hot hitting. Take the over.\\n'}, 'outputs': {'is_spam': True}}, {'inputs': {'subject': 'try out our high-quality rides for less! ?', 'body': \"Here�s 10% OFF your next 10 Bolt rides\\n\\nYou can now try out our high-quality rides for an even better price! ?? And we don�t use the words high-quality lightly. At Bolt, we train our drivers and measure their performance to ensure mutually positive experiences between passengers and drivers. If a driver's average rating drops below the threshold, they may be stopped from accepting additional rides.\\n\\n \\n\\nHow can you help out? Ratings help us keep the best drivers and provide you with a safe, high-quality service. So after every ride, please make sure to rate your trip. ?\\n\\nOPEN THE APP\"}, 'outputs': {'is_spam': True}}, {'inputs': {'subject': 'Quotation for a tombstone ', 'body': 'Good day\\n\\nI would like to request for a quotation for a tombstone. I have attached a screenshot of the tombstones I like. I would like separate quotations for SI43 and SI44, including transportation from Bloemfontein to Aliwal North. \\n\\nI also wanted to ask whether you guys do the full ledger tombstones that look like houses, with aluminium windows.\\n\\nWarm Regards,\\nZandi Tamane'}, 'outputs': {'is_spam': False}}, {'inputs': {'subject': 'Customer Service Officer + 19 new jobs - Job Alert from JobStreet.com', 'body': \"Jobstreet.com\\n\\nHi ANGGRAENI, we've got new job recommendations for you.\\nJobstreet.com\\nCustomer Service Officer\\nPT Intisumber Hasil Sempurna Global\\nMultiple work locations\\ncompany logo\\nSales Promotor / Merchandiser - Penempatan Surabaya / Bali\\nPT Niagamas Lestari Gemilang (Tools, Machinery and Industrial Equipment)\\nMultiple work locations\\nIDR 4,000,000 - 4,600,000 company logo\\nCustomer Service (Branch Tarakan)\\nPT Bank JTrust Indonesia, Tbk\\nTarakan\\nSupportive working environment\\nCompetitive remuneration package\\nCareer opportunities\\ncompany logo\\nFRONT OFFICE REPRESENTATIVE\\nUngasan Medical Care\\nBadung\\nCustomer Service\\nPT Bali Utama Cakrawala\\nBali\\nCompetitive Salary (Negotiable depend on qualifications)\\nFestive Allowance (THR)\\nTraining & Development\\ncompany logo\\nFormalities Officer (Customer Service)\\nPT LPS Indonesia\\nJakarta Raya\\nIDR 5,500,000 - 7,500,000\\nGood and friendly working environment\\nPassionate & Energetic Work Culture\\nEnjoy a fair work-life balance\\ncompany logo\\nKURIR\\nEterli Acrylic\\nLampung\\ncompany logo\\nCustomer Service Officer\\noma elly kitchen\\nJakarta Raya\\nIDR 4,600,000 - 5,750,000\\nCareer development in Prestigeous Company which is Oma Elly\\n---\\n---\\ncompany logo\\nCustomer Service - Operations (Jogja, Contract-based)\\nShopee Internasional Indonesia\\nYogyakarta\\ncompany logo\\nCustomer Service\\nSinar Mas Land\\nJakarta Raya\\ncompany logo\\nSales Office Administration (Manado)\\nPT Asuransi Jiwa Sinarmas MSIG Tbk.\\nManado\\ncompany logo\\nPenjahit\\nBalqis Humaira\\nSurabaya\\nADMIN PENJUALAN DAN PERPAJAKAN\\nPT Berkat Energi Sinar Timur\\nSurabaya\\nCustomer Service\\nPT Bank Ina Perdana Tbk\\nJakarta Raya\\ncompany logo\\nADMIN\\nAYURA CLINIC\\nJawa Timur\\nFront office Leader\\nHotel Quirin\\nSemarang\\ncompany logo\\nAdmin Sales\\nPT Conbloc Indonesia Persada\\nSurabaya\\ncompany logo\\nCUSTOMER SERVICE\\nTi-e-nette Dressing Room\\nYogyakarta\\ncompany logo\\nFRONTLINER\\nJAYA UTAMA CELLULAR\\nMadiun\\nCustomer service\\nCengkareng Rezeki Abadi\\nBanten\\nIDR 4,000,000 - 4,500,000 company logo\\nView more jobs\\nEdit this alert    Unsubscribe    Help\\nConnect with JobStreet\\n\\n  \\n\\n \\nPrivacy Statement   Terms and Conditions\\nThis email was sent to you as a registered user of www.jobstreet.com\\n\\n\\nCopyright � 1998-2023, JobStreet. All rights reserved.\\n\"}, 'outputs': {'is_spam': False}}, {'inputs': {'subject': 'UPDATE ON STOCK ', 'body': 'Dear sir,\\nPlease, I would like to inform you that stock of one of our main products is at a critical level. There is therefore the need for a restocking\\nWarmest regards\\nThanks'}, 'outputs': {'is_spam': False}}, {'inputs': {'subject': 'Appen 9 Project Invite - A5655?Request detail 27?Asia Image Collection Project', 'body': \"Hi,\\n\\n \\n\\nThank you for your interest in joining Appen! This email is to officially invite you to a NEW Project on Appen 9 Platform A5655?Request detail 27?Asia Image Collection Project.\\n\\n \\n\\nTo apply for this project, click here to log on Appen Connect, then click here (project link) to opt in to China platform by still using your Appen Connect email address and password.\\n\\nYour payment will be processed through Appen Connect to your Payoneer account after your work is accepted.\\n\\n \\n\\nProject Overview:\\n\\nYou are invited to participate in a new image collection and annotation project. We are actively seeking participants who are interested in being the image subjects.\\n\\nThe project seeks to build a large set of annotated images to help machine learning (ML) and artificial intelligence (AI) systems perform more fairly and ethically across a diverse range of people. By participating in this project, your image, demographics, and related annotations (�Your Data�) may be shared publicly so that the broader AI community may develop, train, and evaluate ML and AI software, algorithms, and other technologies. This means that your images would be individually viewable among several thousand other images in the dataset. In addition, your data and images could be published in various media in connection with promotions or publications related to the image dataset. For example, your image could be used as a sample image in an academic paper related to the image dataset or in a blog post or presentation promoting the dataset. Your name and email address will not be shared publicly, and individuals accessing the image set will be contractually. restricted from attempting to re-identify you, along with other reasonable use restrictions.\\n\\nTo participate as an image subject, you must:\\n\\n? Provide 10 different images of yourself in different poses and attire with a minimum of 1\\n\\nday between each image\\n\\n? Provide self-reported demographics (e.g., ancestry, pronoun, nationality, country of\\n\\nresidence, age)\\n\\n? Provide images taken with a smartphone, DSLR camera, or compact camera with at\\n\\nleast 8-megapixels, manufactured after 2011.\\n\\n? Read and agree to the project�s informed consent form\\n\\n? Be at least the age of majority where you reside.\\n\\nWe are looking to pay a range of 3 ($)/row.\\n\\nKindly wait for the Project team email as they will reach out to those who will be considered to work on their project.\\n\\nNote: Sharing photos and other information online is fairly commonplace, however, it�s important to remember the risks when allowing Your Data to be shared online. Once Your Data is made public, it could possibly be used for unauthorized or unintended purposes, such as catfishing or deep fakes or sold to third parties for various purposes, such as targeted advertising or other commercial or political activities. It's important to carefully consider the potential risks before participating in this project.\\n\\n \\n\\nProject Opt In Guidelines: https://connect.appen.com/qrp/public-files/emails/2023/06/A5655_Image_Collection_NEW_v2.pdf\\n\\n \\n\\nTo find out more about this project or if you have any questions/issues, please contact the project support - yuyang@appen.com with email subject: �A5655?Request detail 27?Asia Image Collection Project�.\\n\\n \\n\\nWe are extremely excited to have you join the Appen 9 Crowd and participate in the Project!\\n\\n \\n\\nKind regards,\\n\\nAppen 9 Support Team\\n\\nIf you have any questions or concerns about this message, please contact support.\"}, 'outputs': {'is_spam': False}}, {'inputs': {'subject': 'Yes- it is a numbers game', 'body': 'Hey Prachanda,\\n \\nToday\\'s video... To build your biz - \"It is a numbers game\"\\n==> Listen in Here \\n  \\nTo Your Success \\n \\nRyan Gunness \\nMLM Recruit On Demand ==> \"Spoon Fed Marketing\"\\n '}, 'outputs': {'is_spam': True}}, {'inputs': {'subject': 'If coding in C++ is so extremely hard, why do we have so many PlayStation and Nintend...?', 'body': \"TOP STORIES FOR VIRA\\n\\nQuora\\n?\\nIf coding in C++ is so extremely hard, why do we have so many PlayStation and Nintendo video games and many computer programs that are coded in C++ if it is so hard for our brains to learn?\\nAndrew McGregor, Performance Measurement Lead at Fastly (2019-present) � Answered January 9, 2021\\n\\nC++ is moderately hard, it is true. But making a high-end game is really, really hard. Much harder than any programming language. With any large application, the problem is t... Read more �\\nUpvote \\n1.6K\\n\\nComment \\n55\\n\\n?\\nThey say C is an unsafe language. As a beginner in C programming (say I only have experience in Python), what are some things I should avoid when using C, such as bad habits or dangerous code/syntax?\\nAsked in C Programmers � Answered by Manuel Mateo � April 2\\n\\nAlways set pointers to null after freeing them\\nAlways check if pointers are null\\nPrefer the number-capped versions of functions (strncpy vs strcpy and others)\\nNever trust user...\\nRead more �\\nUpvote \\n37\\n\\nComment \\n12\\n\\n\\n?\\nHow do I solve x^2 = 16^x?\\nPhilip Lloyd, Specialist Calculus Teacher, Motivator and Baroque Trumpet Soloist. � Answered May 19\\n\\nThere is no basic algebra to make �x� the subject of equations like this. I recommend drawing the graphs of y = x^2 and y = 16^x and find where they cross! Clearly there is o... Read more �\\nUpvote \\n65\\n\\nComment \\n17\\n\\n?\\nIs Robert Downey Jr. a jerk in real life?\\nGretchen Bohnam � Updated March 14, 2020\\n\\nI was behind him in line once at a coffee shop in L.A. I�m a huge fan but I didn�t want to bother him so I didn�t say anything to him. He was very friendly/polite to the st... Read more �\\nUpvote \\n27.8K\\n\\nComment \\n416\\n\\n?\\nWhat zodiac sign is most manipulative?\\nNidhi Astro | Top Vedic Astrologer, Vedic Astrologer, Healer, & Spiritualist � Answered March 8\\n\\n5 rising signs - manipulators: how to identify people who play a double game in the horoscope There are planets in the natal chart that are responsible for the ability to ma... Read more �\\nUpvote \\n775\\n\\n?\\nIf P ? NP, then what problems can be solved in polynomial time?\\nAlon Amit, CS degree and a Ph.D. in mathematics. � Answered June 9\\n\\nAll problems in P can be solved in polynomial time. This is true whether or not P=NP. If P[math]\\\\ne[/math]NP, it�s still true that all problems in P can be solved in polynomial time. The... Read more �\\nUpvote \\n118\\n\\nComment \\n13\\n\\n?\\nWas Elvis Presley racist?\\nJonathan Peck, A.S Interdisciplinary Studies, Athens Technical College (2022) � Answered March 30, 2018\\n\\nMy dad once told me a story about Elvis Presley. It was that one day, Elvis was at a market or shopping center and saw an old black woman struggling to carry groceries. Elv... Read more �\\nUpvote \\n20.9K\\n\\nComment \\n2.5K\\n\\n?\\nHow should I prepare Gs for SSC CGL 2023?\\nShiv Singh, Divisional Accountant (2023-present) � Answered June 27\\n\\nDo only two things 1. PYQ since 2018 (all topics from all ssc exams) 2.Speedy/ other monthly magazines for Current affairs(last 1 year) if you are good at it you will be getti... Read more �\\nUpvote \\n23\\n\\nComment \\n2\\n\\n?\\nWhat is proof for you that karma exists?\\nAsked in One place-1 � Answered by Gaurav Gupta � June 29\\n\\nThe suicide bomber who died alone. In 2016, Abdullahi Abdisalam Borleh was a suicide bomber with a laptop full of explosives who boarded a plane from Somalia, Daallo Airline... Read more �\\nUpvote \\n7.4K\\n\\nComment \\n161\\n\\n?\\nWhy do truckers hate Swift so much?\\nJim Lee, Long-haul Truck Driver (2009-present) � Answered September 6, 2018\\n\\nOh, there�s a few reasons. But one that a lot of veteran drivers will focus on doesn�t involve only Swift: What a lot of people don�t realize about truck driving is that it�... Read more �\\nUpvote \\n4.9K\\n\\nComment \\n327\\n\\n?\\nWhat is one example of honesty that you will remember for years to come?\\nAsked in World of experiences � Answered by Himanshu Tiwari � June 29\\n\\nRitesh Saxena, a business leader, came home from work to find his younger daughter waiting to show him her exam assessment results. She ran to her father and showed him her... Read more �\\nUpvote \\n548\\n\\nComment \\n18\\n\\n?\\nIs learning C++ easy if I know C?\\nKurt Guntheroth, Software Engineer and Writer � Answered May 1\\n\\nC++ is what�s called a multi-paradigm language. Those paradigms are (currently) imperative, generic, functional, and object-oriented. If you know C, you can tick �imperativ... Read more �\\nUpvote \\n93\\n\\nComment \\n14\\n\\nRead more in your feed\\nNever miss a story. Designed for readers on the go.\\n?\\nDownload on the App StoreGet it on Google Play\\n?\\nMissing out on Quora emails? Be sure to add us to your primary inbox.\\nThis email was sent by Quora (605 Castro Street, Mountain View, CA 94041).\\nIf you don't want to receive this type of email in the future, please unsubscribe.\\nhttps://www.quora.com\\n\"}, 'outputs': {'is_spam': False}}, {'inputs': {'subject': 'Walid, Get Paid to Listen to Music ', 'body': \"Hi Walid,\\n\\nDo you listen to music on Spotify, YouTube, Amazon or Apple?\\n\\nIf you do - you qualify!\\n\\nYou could be making $50 for every song you stream...\\n\\nAll it takes is 3 steps...\\n\\nStep 1: Create Your Account\\nCreate your account here\\n\\nStep 2: Pick Your Favourite Artist\\nSelect from thousands of artists and vibe to the music\\n\\nStep 3: Get Paid\\nThat's it, for every song you stream...\\n\\n=> Click here right now to start instantly\\n\\nRegards,\\n\\nAlex\\n\\n---\\n?? Connect with us on Telegram: https://t.me/moneymakingcentral\"}, 'outputs': {'is_spam': True}}, {'inputs': {'subject': 'English', 'body': 'Just wanted to make'}, 'outputs': {'is_spam': True}}, {'inputs': {'subject': 'Combating scams in the Discogs Marketplace', 'body': 'ondiekijohn254,\\nDiscogs has recently detected an increase in scammers in the Marketplace, and we�re taking action to address the issue. New sellers on Discogs will undergo a waiting period to reduce fraud attempts.\\n\\nWe are committed to maintaining a safe and trustworthy marketplace for independent buyers and sellers. If you see suspicious activity, please report it immediately to Discogs Support through this form.\\n\\nLearn more about how to recognize fraud in our guide to best practices for buying safely on Discogs:\\n\\nSafe Buying Tips\\n\\nSincerely,\\nDiscogs'}, 'outputs': {'is_spam': False}}, {'inputs': {'subject': \"You've Earned a Reward from Bard Explorers India\", 'body': \"You've received a gift!\\nSign in to your Bard Explorers India community\\nClick the member icon at the top of any page to visit your Member Profile Page\\nYour earned gift will appear on that page\\nFollow the instructions provided in the community to redeem\\nPlease act quickly to redeem. For your protection, gift links expire after 90 days.\\n\\nSee you online!\\n\\nGo to Bard Explorers India\\nIf you have questions about your gift, please reach out to our fulfillment company at support@virtualrewardcenter.com\\n\"}, 'outputs': {'is_spam': False}}, {'inputs': {'subject': 'Changes to our Terms and Conditions and Privacy Notice', 'body': 'Changes to our Terms and Conditions and Privacy Notice\\nToday we updated TIDAL�s Terms and Conditions of Use (�Terms�) to provide information about some of our new product features. In particular, we added the most up-to-date information about Live (Section 5), including relevant limitations. In addition, we removed language related to our Direct Artist Payouts program, which is being discontinued. See here for more information about that.\\nIn addition, we want to give you advance notice of some additional, upcoming changes to our Terms that will go into effect on April 22, 2023:\\n� We are updating language related to how TIDAL and you may resolve disputes, including procedures related to how you may opt-out of binding arbitration;\\n� We are clarifying our rights with respect to information or feedback you provide to us about our products, including via our Early Access Program;\\n� We are adding clearer language about restrictions on access to our service in countries where we do not formally operate.\\nYou can see the Terms and Conditions that will go into effect on April 22 here. By continuing to use TIDAL after April 22, you agree to the updated Terms.\\nWe also updated TIDAL�s Privacy Notice to reflect how we process your personal information if you use our new product features. For example, you can now upload a profile picture, which will be part of your public profile and publicly visible on TIDAL (Section 6.1). If you use our Live feature, some of your data will be visible to other TIDAL users and audiences outside of TIDAL (Section 6.3).\\n0'}, 'outputs': {'is_spam': False}}, {'inputs': {'subject': 'Junior Admin Assistant ', 'body': \"RE: Junior Admin Assistant\\n\\nDear Hiring Professional\\n\\nI am contacting you to express my interest in the Admin Assistant opportunity with your company. After reviewing the position requirements, I believe that my education and experience are a great match for this position.\\n\\nI am a great communicator, motivated by any opportunity where I can learn new things or engage with people. I have respect for those in management positions and I'm always willing to take on greater responsibilities to help out. You can be sure that I will bring these qualities to this position with your company, in addition to my other strengths, which include customer service, conducting outbound sales calls and product sales. I am also a hard worker who is skilled in problem-solving and time management. I take initiative and get things done on my own as well as with others. I catch on quickly and work hard to continuously learn new skills. Just a few of my abilities include:\\nOrganizational skills\\nData capturing\\nOffice Administration\\nI am certain that I will be a great addition to the company.\\n\\nI would gladly appreciate your review of my enclosed CV and outlined credentials. I believe that I can be a valuable addition to the company and its business goals. At your convenience, I am available for an interview or further discussion. I look forward to your response.\\n\\nSincerely,\\nZandi Tamane \\n0659927404\\n\\n\\n\\n\\n--\\nZandi Tamane\\nGood day\\n\\nThank you for the response. I will honour the invitation for an interview.\\n\\nWarm Regards,\\nZandi Tamane\\nShow quoted text\\n\"}, 'outputs': {'is_spam': False}}, {'inputs': {'subject': 'Sathya!, welcome to Snapchat+!', 'body': \"As a Snapchat+ subscriber, you now have access to exclusive features that'll allow you to experience Snapchat in a whole new way.\\n\\nYour monthly Snapchat+ plan is set to renew on July 6, 2023 UTC. Payment will automatically be charged to your Play Store account every 1 month unless you cancel before the renewal date.\\n\\nYou can cancel or change your subscription anytime by going to your Play Store settings.\\n\\nSnapchat+ Subscription Terms apply https://www.snap.com/terms/snapchatplus. If the cost of your plan changes in the future, you'll be notified in advance.\\n\\nStart making the most of your Snapchat+ subscription today!\"}, 'outputs': {'is_spam': False}}, {'inputs': {'subject': 'What is it like to have a six pack?', 'body': '\\n?\\nTOP STORIES FOR VIRA\\n\\nQuora\\n?\\nWhat is it like to have a six pack?\\nRuban Mathivanan, studied at SRM Easwari Engineering College � Answered April 24, 2018\\n\\nSICK!!!!!!!!! No one here seems to be telling the ugly truth of the other side. Oh sure, six pack abs has got its own perks but let me tell you the downside of it. Firstly da... Read more �\\nUpvote \\n1.3K\\n\\nComment \\n461\\n\\n?\\nIs learning C++ easy if I know C?\\nKurt Guntheroth, Software Engineer and Writer � Answered May 1\\n\\nC++ is what�s called a multi-paradigm language. Those paradigms are (currently) imperative, generic, functional, and object-oriented. If you know C, you can tick �imperativ... Read more �\\nUpvote \\n92\\n\\nComment \\n14'}, 'outputs': {'is_spam': False}}, {'inputs': {'subject': 'Hi lun Message from TuPussycat', 'body': \"Come on, message me i don't want to sleep alone...\\nSEX??ALERT\\n\\nText me back and we can meet. I would like to receive a lot of kisses! My sensitive skin is in need of touching. All that I need is love and sex. I�m waiting for your answer.\"}, 'outputs': {'is_spam': True}}, {'inputs': {'subject': 'Updates to Google Play Terms of Service', 'body': 'On March 15, 2023, we�re making some changes to our Google Play Terms of Service. These changes make it easier for you to understand what to expect from Google Play as you use our services.\\nYou can review the new terms here. At a glance, here�s what this update means for you:\\n� Increased clarity and certainty: We changed some language in the Updates section to clarify and make clearer what to expect.\\n� Improved readability: While our terms remain a legal document, we�ve done our best to make them easier to understand.\\nIf you use Family Link to manage a Google Account for someone else, please take some time to talk to them about these changes.\\nThank you for using Google Play!\\n� 2023 Google LLC, 1600 Amphitheatre Parkway, Mountain View, CA, 94043\\nYou have received this mandatory email service announcement to update you about important changes to the Google Play Terms of Service.'}, 'outputs': {'is_spam': False}}, {'inputs': {'subject': 'Updates to our Privacy Policy', 'body': 'Tala Mobile\\n\\nHi John, \\nWe are implementing updates to Privacy Policy & App Privacy Notice, effective 27 June 2023. \\n\\nOur updated Privacy Policy and Privacy Notice describes in clearer terms how we process your personal data, particularly in relation to our obligations as a licensed digital credit provider, registered data controller, and registered data processor. \\n\\n \\n\\nClick these links to read the updated Privacy Policy and App Privacy Notice on our website'}, 'outputs': {'is_spam': False}}, {'inputs': {'subject': 'AFE Model Casting Call ', 'body': 'Model Casting Call\\nThank you for taking the time to register for the Anambra Fashion Expo 2023 Model Call. We are thrilled to have received your information and are excited to review your submission.\\n\\nOur team will be carefully reviewing all of the applications we receive over the\\nnext few weeks\\n\\nHave you followed us on our social media handles?\\n\\nRemember, one of the prerequisites for qualification is to follow all our social\\nmedia accounts and share all our content using the hashtag #AFE2023\\n\\nYou can follow us on Facebook, Instagram, and Twitter.\\n\\nFacebook: https://facebook.com/AnambraFashionExpo2023\\nInstagram: https://instagram.com/anambrafashionexpo\\nTwitter: https://twitter.com/anambrafashion\\n\\nIn the meantime, we encourage you to stay connected and keep an eye out for\\nupdates about the event. We will be posting!\\n\\nNote: Create your personalized profile picture (DP) for the Model Casting of the Anambra Fashion Expo 2023\\n\\nYou can create your DP using the following link: https://getdp.co/afe2023\\n\\nBest Regards,\\n\\nAnambra Fashion Expo 2023 Team '}, 'outputs': {'is_spam': False}}, {'inputs': {'subject': '?? You Earned 500 GCLoot Points', 'body': '\\nalt_text\\nCongratulations, you just earned\\n500\\n\\n\\nYou completed the following offer:\\n\\nView Points History\\nTo stop recieving notifications when you earn points, please visit your profile and click \"Preferences\" to change your setting.\\n\\nRoom 1203, 12th Floor, Tower 3\\n\\nChina Hong Kong City, 33 Canton Road\\n\\nTsim Sha Tsui, Kowloon, Hong Kong\\n\\nUnsubscribe'}, 'outputs': {'is_spam': False}}, {'inputs': {'subject': 'Sales executive ', 'body': \"RE: Sales Executive\\n\\nDear Hiring Professional\\n\\nI am contacting you to express my interest in the Sales Executive position. After reviewing the position requirements, I believe that my education and experience are a great match for this position.\\n\\nI am an energetic and decisive negotiator with skills in goal-setting, sales and recommending products. I have a natural talent for building immediate rapport with people and cultivating productive connections. Likewise, I am fully capable of working with strong personalities and navigating through high-pressure situations.\\n\\nFor more details, please review my attached resume. I believe that I can be the Sales Executive you're looking for and welcome the opportunity to speak with you at your earliest convenience.\\n\\nSincerely, \\nZandi Tamane\"}, 'outputs': {'is_spam': False}}, {'inputs': {'subject': 'Not Satisfied with the Reward', 'body': \"Hi,\\n\\nI have gave so many contributions for the development of BARD. But I haven't received 1000 INR itself. I got only 200 INR. So please reward me atleast 1000 INR. BECAUSE I contributed many good stuffs for developing bard.\\n\\nIf you have any kind of doubts, just recheck my\\nBard usage details.\\n\\nThanks :)\"}, 'outputs': {'is_spam': False}}, {'inputs': {'subject': 'Thank you for creating a Netflix account! ', 'body': \"Netflix\\nLearn more about your new account\\nHey there,\\nWe�re excited to have you! Below, you�ll find all the information you requested about Netflix. Plans start at ?1,200/month.\\nContinue\\nStill have a few questions about how Netflix works?\\n\\nUnlimited Entertainment.\\nWatch all you want for one low price.\\n\\nCancel anytime.\\nNo contracts or commitments.\\n\\nRecommendations just for you.\\nAlways find the right TV show or movie based on what you like.\\nWe're here to help if you need it. Visit the Help Center for more info or contact us.\\nThe Netflix team\\nWe're sending this email because you requested information about Netflix. This is a one-time email.\"}, 'outputs': {'is_spam': False}}, {'inputs': {'subject': 'John, here�s a discount for your next safe rides ??', 'body': 'Bolt rides are not only affordable, but they also come with a number of safety features. \\n\\n \\n\\nHere are some of the things we do to ensure your safety:\\n\\nWe train our drivers and verify their identity;\\nOur app has �Share your ETA� and emergency assist buttons;\\nWe use rider feedback to improve future journeys.\\nLearn all about Bolt�s safety measures here.\\n\\nOPEN THE APP\\n\\nSafe travels! ??\\n\\nThe Bolt team\\n\\nN.B. This is a limited-time offer that you can use from 2023-07-18 until 2023-07-24 in Nairobi, Kenya. More information in the app. Discount is valid for up to 250 KES per trip.'}, 'outputs': {'is_spam': True}}, {'inputs': {'subject': 'Your Account Was Accessed From a New Device', 'body': \"We noticed a new login\\nHello ondiekijohn254@gmail.com, we noticed an unusual login from a device or location you don't usually use.\\nWas this you?\"}, 'outputs': {'is_spam': False}}, {'inputs': {'subject': 'Do you have $7 Walid?', 'body': \"Hello Walid,\\n\\nDo you have $7?\\n\\nI ask because I'm about to do something STUPID.\\n\\nThe thing is, what I'm about to offer you isn't just amazing, it's totally CRAZY.\\n\\nHere's the deal:\\n\\nPay $7 and I'll give you $177 back.\\n\\nSeriously, as if that wasn't good enough value, the products you'll get have the potential to create you a $7000 a month income!\\n\\nSee exactly what you get for you $7 HERE.\\n\\nRegards,\\n\\nCharlie\"}, 'outputs': {'is_spam': True}}, {'inputs': {'subject': 'Time is of the Essence!', 'body': \"Dear Customer,\\n\\nThe 2022 filing season is almost coming to an end.\\n\\nAs of today, you only have 8 DAYS left to file your income tax returns.\\n\\nIf you have not yet started the filing process, now is the time to begin.\\n\\nLog on to itax.kra.go.ke today! Kumbuka kufile returns ni rahisi kuliko kucommute kukinyesha!\\n\\nDeadline to file is 30th June 2023\\n\\nFor any specific questions or concerns, don't hesitate to reach us on:\\n\\n020 4 999 999 or 0711 099 999 or email: callcentre@kra.go.ke\\n\\nIf you have filed your returns, kindly ignore this message.\"}, 'outputs': {'is_spam': True}}, {'inputs': {'subject': '[The Virtual Reward Center] Re: ** Clarifications', 'body': 'Hello,\\n \\nThank you for contacting the Virtual Reward Center. We here at the Virtual Reward Center do not dictate what Rewards get sent out to recipients. Please contact your program sponsor, (the company from which you originally received your Reward) at helpdesk@cspace.com for this inquiry.\\n \\nWe apologize for any inconvenience.\\n \\n \\nThank You,\\n\\nThe Virtual Reward Center\\nCustomer Support Team Lead'}, 'outputs': {'is_spam': False}}, {'inputs': {'subject': '?? Your GitHub launch code', 'body': \"Here's your GitHub launch code, @Mortyj420!\\n \\nan octocat standing next to a rocket\\n Continue signing up for GitHub by entering the code below:\\n 63024610\\n \\nOpen GitHub\"}, 'outputs': {'is_spam': False}}, {'inputs': {'subject': 'Come back and keep earning with Quick Pay Survey', 'body': \"Quick Pay Survey�  \\n  \\n \\n  \\n \\nHello Anggraeni ,\\n\\nRemember, we can't hang onto inactive accounts forever! To keep the balance of $3.28 in your Quick Pay Survey� account, you need to visit your account. Logging in today will save your balance from being cleared.\\n \\nLogin Now\\n \\nThanks!\\n- The Quick Pay Survey� Team\\n  \\n \\n  \\nYou have received this email because you signed up to be a member of Quick Pay Survey� on January 16, 2023 from 103.144.18.94\\n\\nWe respect your privacy. If you would like to stop receiving messages from Quick Pay Survey�, please Unsubscribe. \\n  \\n  \\n� 2009 - Present Quick Pay Survey� | Kvieciu g. 4 - 23, Vilnius LT-08438 \\n  \\n\"}, 'outputs': {'is_spam': False}}, {'inputs': {'subject': 'Combating scams in the Discogs Marketplace', 'body': 'Discogs has recently detected an increase in scammers in the Marketplace, and we�re taking action to address the issue. New sellers on Discogs will undergo a waiting period to reduce fraud attempts.\\n\\nWe are committed to maintaining a safe and trustworthy marketplace for independent buyers and sellers. If you see suspicious activity, please report it immediately to Discogs Support through this form.\\n\\nLearn more about how to recognize fraud in our guide to best practices for buying safely on Discogs:\\n\\nSafe Buying Tips'}, 'outputs': {'is_spam': True}}], 'test': [{'inputs': {'subject': 'Job Opportunities that pay ?600,000+ and up in Nigeria', 'body': 'To cushion the effect of subsidy removal and general increase in prices of goods and services, Nigerians have now been approved to work and earn in US Dollars, whatever you earn is paid directly to your account.\\n\\nOur partners earn as much as $3500-$5000 monthly and even more. The current exchange rate is about 850, $4000 is over ?3 Million naira.\\n\\nClick here to start\\n\\nRequirements:\\nA smartphone/laptop\\nFast internet connection\\nSimple guide from account managers\\nNo training fee required\\nThe Opportunity\\n\\nOur client a major player in the premium domain business is giving opportunities to anyone interested in working independently. The goal is to help our clients earn strictly in US Dollars, you simply participate in the premium domain business and have your earnings sent in Dollars.'}, 'outputs': {'is_spam': True}}, {'inputs': {'subject': 'Flowing with the markets', 'body': \"Welcome to our second weekly newsletter.\\n\\n \\n\\nThis week�s edition:\\n\\n??The featured instruments are Indices\\n\\n? Traders pop quiz\\n\\n??? Latest podcast episodes \\n\\n?? Free classes sign up\\n\\n?? Links to even more online resources\\n\\nThis week's featured instruments - Indices\\n\\n \\n\\nThis week we focus on Index instruments that have blown the charts in the last couple of months. Traders usually diversify their holdings on currency instruments with commodities, stocks and Index instruments. Index instruments include a basket of stocks picked based on the sector, capitalization, or regions. Major Indices from renowned global markets offered at FXPesa include Nasdaq (UT100), Standards and Poor 500 (US500) and Dow Jones (US30) traded at NYSE.\\n\\n \\n\\nS&P500 has been rising since the beginning of the year with more than 15%, as well as Nasdaq pumping to above 30%. The two indices prove the adage that time in the market surpasses timing the market. Recent moves will show fluctuations, but long-term trend shows consistent gains in indices.\"}, 'outputs': {'is_spam': True}}, {'inputs': {'subject': \"Order Confirmation for Maliek from Chanello's Pizza\", 'body': \"DoorDash Neighborhood of Good\\nTHANKS FOR YOUR ORDER, MALIEK\\n\\n\\nThe estimated delivery time for your order is 9:19 PM - 9:31 PM. Track your order in the DoorDash app or website.\\n\\nTrack Your Order\\nPaid with Visa Ending in 8680 and/or credits\\nChanello's Pizza\\nTotal: $32.13\\n\\nYOUR RECEIPT\\n940 Gates Ave, Norfolk, VA 23517, USA\\n\\nEstimated Total\\n\\n$32.13\\n\\nView Full Receipt\\nGet Order Help\\nREVIEW THIS STORE\\n\\nShare your thoughts on your order with fellow customers and Chanello's Pizza.\\n\\n11 22 33 44 55\\nDoorDash\\nDownload the app\\nDownload \\nthe app\\nShop Gift Cards\\nShop \\nGift Cards\\nRefer and Earn Credit\\nRefer and \\nEarn Credit\\nDeliver with DoorDash\\nDeliver with \\nDoorDash\\n�2023 DoorDash Inc. \\n303 2nd Street, South Tower, Suite 800 \\nSan Francisco, CA 94107\\nPrivacy Policy\\nfb tw ig blog\\nHelp Center | View email in browser\\nProp 65 Restaurant WARNING\\n\\nProp 65 Alcohol WARNING. Drinking distilled spirits, beer, coolers, wine, and other alcoholic beverages may increase cancer risk, and, during pregnancy, can cause birth defects.  For more information go to www.P65Warnings.ca.gov/alcohol.\\n\\nProp 65 BPA WARNING\\n\"}, 'outputs': {'is_spam': False}}, {'inputs': {'subject': 'TV LISENCE ', 'body': \"Dear Sir/ Madam\\n\\nI have been receiving sms from the TV licence saying I am owing.\\nI don't remember registering for TV lisence and also I don't own a TV. Neither am I working.\\n\\nPlease fix the issue. I don't really know what is going on.\\n\\nYours sincerely\\nShocky \\n\"}, 'outputs': {'is_spam': False}}, {'inputs': {'subject': 'New login to Instagram from Threads on Infinix X690B ', 'body': \"We noticed a new login, alexxuzy\\n \\nWe noticed a login from a device you don't usually use.\\n \\n \\n\\n \\nInfinix X690B � Threads � Lagos, Nigeria\\n \\nJuly 6 at 10:18 AM (PDT)\\n \\n \\n \\nIf this was you, you won�t be able to access certain security and account settings for a few days. You can still access these settings from a device you�ve logged in with in the past.\\n \\nIf this wasn�t you, you can secure your account from a device you�ve logged in with in the past. Learn more\\n \\n \\n   \\n\\n\\n� Instagram. Meta Platforms, Inc., 1601 Willow Road, Menlo Park, CA 94025\\nThis message was sent to ezejosephfor2018@gmail.com and intended for alexxuzy. Not your account? Remove your email from this account. \"}, 'outputs': {'is_spam': False}}, {'inputs': {'subject': 'HOW TO CANCEL UIF REGISTRATION ', 'body': 'Dear Sir/ Madam\\n\\nI would like to enquire about the cancellation of the UIF for employees.\\nI worked at a retail shop in 2020 to 2021 as a casual and I have found out I have been registered without my knowledge.\\n\\nI have been unemployed since February 2021 and now I want to cancel the UIF.\\n \\nI would really appreciate your assistance in this regard.\\n\\nYours sincerely\\nReshoketswe Sekhukhune '}, 'outputs': {'is_spam': False}}, {'inputs': {'subject': 'Live has arrived on TIDAL ??', 'body': 'Where Live Happens ??\\nThe Live party is just getting started. Get HiFi or HiFi Plus to join your fave DJs, celebs, music fans, and our TIDAL music experts on Live.'}, 'outputs': {'is_spam': True}}, {'inputs': {'subject': 'Telemarketing + 19 new jobs - Job Alert from JobStreet.com', 'body': \"Jobstreet.com\\n\\nHi ANGGRAENI, we've got new job recommendations for you.\\nJobstreet.com\\nTelemarketing\\nPT. Master Mat Indonesia\\nSurabaya\\nInsentif\\n---\\n---\\ncompany logo\\nTeam Leader Telemarketing\\nPT Telmark Integrasi Indonesia (Recruitment Firm)\\nSleman\\nIDR 3,500,000 - 4,000,000\\nAsuransi\\nJenjang Karir\\n---\\ncompany logo\\nMOBILE SERVICE - LAMONGAN & SIDOARJO\\nPT Exa Mitra Solusi (Recruitment Firm)\\nJawa Timur\\ncompany logo\\n(Work from home) Quality Assurance (QA) Analyst\\nAlpha Iota\\nMultiple work locations\\ncompany logo\\nPARTMAN (PIAGGIO VESPA CABANG MADIUN)\\nSuper Sukses Group\\nJawa Timur\\ncompany logo\\nCustomer Service Officer\\nPT Intisumber Hasil Sempurna Global\\nMultiple work locations\\ncompany logo\\nSales Promotor / Merchandiser - Penempatan Surabaya / Bali\\nPT Niagamas Lestari Gemilang (Tools, Machinery and Industrial Equipment)\\nMultiple work locations\\nIDR 4,000,000 - 4,600,000 company logo\\nCustomer Service (Branch Tarakan)\\nPT Bank JTrust Indonesia, Tbk\\nTarakan\\nSupportive working environment\\nCompetitive remuneration package\\nCareer opportunities\\ncompany logo\\nFRONT OFFICE REPRESENTATIVE\\nUngasan Medical Care\\nBadung\\nCustomer Service\\nPT Bali Utama Cakrawala\\nBali\\nCompetitive Salary (Negotiable depend on qualifications)\\nFestive Allowance (THR)\\nTraining & Development\\ncompany logo\\nFormalities Officer (Customer Service)\\nPT LPS Indonesia\\nJakarta Raya\\nIDR 5,500,000 - 7,500,000\\nGood and friendly working environment\\nPassionate & Energetic Work Culture\\nEnjoy a fair work-life balance\\ncompany logo\\nKURIR\\nEterli Acrylic\\nLampung\\ncompany logo\\nCustomer Service Officer\\noma elly kitchen\\nJakarta Raya\\nIDR 4,600,000 - 5,750,000\\nCareer development in Prestigeous Company which is Oma Elly\\n---\\n---\\ncompany logo\\nCustomer Service - Operations (Jogja, Contract-based)\\nShopee Internasional Indonesia\\nYogyakarta\\ncompany logo\\nCustomer Service\\nSinar Mas Land\\nJakarta Raya\\ncompany logo\\nSales Office Administration (Manado)\\nPT Asuransi Jiwa Sinarmas MSIG Tbk.\\nManado\\ncompany logo\\nPenjahit\\nBalqis Humaira\\nSurabaya\\nADMIN PENJUALAN DAN PERPAJAKAN\\nPT Berkat Energi Sinar Timur\\nSurabaya\\nCustomer Service\\nPT Bank Ina Perdana Tbk\\nJakarta Raya\\ncompany logo\\nADMIN\\nAYURA CLINIC\\nJawa Timur\\nView more jobs\\nEdit this alert    Unsubscribe    Help\\nConnect with JobStreet\\n\\n  \\n\\n \\nPrivacy Statement   Terms and Conditions\\nThis email was sent to you as a registered user of www.jobstreet.com\\n\\n\\nCopyright � 1998-2023, JobStreet. All rights reserved.\\n\"}, 'outputs': {'is_spam': False}}, {'inputs': {'subject': 'APPLICATION PROCESS ', 'body': \"GOOD DAY SIR/MADAM \\n\\n In 2020 I applied to the institution but I didn't know I was accepted for the 2021 Arcademic Year. As I was trying to apply for this year for the past few months but with no success, I noticed that I owe the institution R3280. I kindly please ask for your assistance as I wish to enroll in this Institution for this Academic year 2022.\\n\\nYOURS SINCERELY \\nRESHOKETSWE SEKHUKHUNE\"}, 'outputs': {'is_spam': False}}, {'inputs': {'subject': 'AFE Model Casting Call ', 'body': 'Model Casting Call\\nThank you for taking the time to register for the Anambra Fashion Expo 2023 Model Call. We are thrilled to have received your information and are excited to review your submission.\\n\\nOur team will be carefully reviewing all of the applications we receive over the\\nnext few weeks\\n\\nHave you followed us on our social media handles?\\n\\nRemember, one of the prerequisites for qualification is to follow all our social\\nmedia accounts and share all our content using the hashtag #AFE2023\\n\\nYou can follow us on Facebook, Instagram, and Twitter.\\n\\nFacebook: https://facebook.com/AnambraFashionExpo2023\\nInstagram: https://instagram.com/anambrafashionexpo\\nTwitter: https://twitter.com/anambrafashion\\n\\nIn the meantime, we encourage you to stay connected and keep an eye out for\\nupdates about the event. We will be posting!\\n\\nNote: Create your personalized profile picture (DP) for the Model Casting of the Anambra Fashion Expo 2023\\n\\nYou can create your DP using the following link: https://getdp.co/afe2023\\n\\nBest Regards,\\n\\nAnambra Fashion Expo 2023 Team '}, 'outputs': {'is_spam': False}}, {'inputs': {'subject': 'Get the Competitive Edge: ?? Project-Winning Strategies Revealed', 'body': \"Hi Taiwo\\n\\nWe're just over halfway through the year and we thought we'd check in on how things are going for you.\\n\\nHave you been successful in winning projects and earning more compared to last year? Or are you still working towards that first big win?\\n\\n \\n\\nNo matter where you are in your journey, we've got something exciting for you. We're bringing you three new videos from our top freelancer, Matt Starky. These videos are packed with valuable tips and tricks that will benefit both beginners and those who already have 50 projects under their belts. Matt shares his proven strategies to win projects, even if you lack certain skills.\\n\\n \\n\\nBy incorporating some of these methods into your own routine for winning projects, you'll be on the fast track to becoming your own boss as a freelancer\"}, 'outputs': {'is_spam': True}}, {'inputs': {'subject': 'Toloka has sent you $8,32 USD.', 'body': ' \\nHello, Vira Jessica\\nPayPal\\nToloka has sent you $8,32 USD.\\n\\nTransaction ID\\n64980345S32777037 Transaction date\\n10 July 2023\\nMoney received $8,32 USD\\nPlease note it may take a little while for this payment to appear in the Activity section of your account.\\n\\nGet Details\\n\\nPayPal\\nHelp & Contact | Security | Apps\\nTwitter Instagram Facebook LinkedIn\\nPayPal is committed to preventing fraudulent emails. Emails from PayPal will always contain your full name. Learn to identify phishing\\n\\nNot sure why you received this email? Learn more\\n\\nCopyright � 1999-2023 PayPal. All rights reserved.\\n\\nPayPal Pte. Ltd. (\"3PL\") has applied for a license under the Singapore Payment Services Act (\"PS Act\") with the Monetary Authority of Singapore. During this statutory transitional period, 3PL is operating under an exemption from holding a license and is allowed to continue to provide specific payment services.\\nPayPal RT000231:en_US(en-ID):1.0.0:735d85cc67b89'}, 'outputs': {'is_spam': False}}, {'inputs': {'subject': 'Re: KPMG 2023 Graduate Recruitment - Aptitude Test Feedback', 'body': 'Dear John,\\n\\n \\n\\nThank you for expressing interest and exploring a career opportunity in KPMG.\\n\\nYou recently applied for our 2023 Graduate Recruitment and proceeded to participate in the Aptitude Test.\\n\\nThe Aptitude Test was highly competitive, and we regret to inform you that you did not make it to proceed to the next level.\\n\\nWhile we recognize that this might be a disappointment to you, we commend you for having participated. We encourage you to continually visit our careers website to apply for any future positions that align with your credentials and skills.\\n\\nWe appreciate your interest and the time you have invested and wish you the best in your career aspirations.\\n\\n \\n\\nRegards\\n\\nTalent Acquisition Team\\n\\n \\n\\n***********************************************************************\\nThe information in this e-mail is confidential and may be legally privileged. It is intended solely for the addressee. Access to this e-mail by anyone else is unauthorized. If you have received this communication in error, please address with the subject heading \"Received in error,\" send to the original sender , then delete the e-mail and destroy any copies of it. If you are not the intended recipient, any disclosure, copying, distribution or any action taken or omitted to be taken in reliance on it, is prohibited and may be unlawful. Any opinions or advice contained in this e-mail are subject to the terms and conditions expressed in the governing KPMG client engagement letter. Opinions, conclusions and other information in this e-mail and any attachments that do not relate to the official business of the member firm are neither given nor endorsed by it.\\n\\nKPMG cannot guarantee that e-mail communications are secure or error-free, as information could be intercepted, corrupted, amended, lost, destroyed, arrive late or incomplete, or contain viruses.\\n\\nThis email is being sent out by KPMG International on behalf of the local KPMG member firm providing services to you. KPMG International Limited is a private English company limited by guarantee. KPMG International Limited and its related entities do not provide services to clients. Each KPMG firm is a legally distinct and separate entity and describes itself as such. Each KPMG member firm is responsible for its own obligations and liabilities.\\nFor more detail about our structure please visit home.kpmg/governance.\\n\\nThis footnote also confirms that this e-mail message has been swept by AntiVirus software.\\n***********************************************************************'}, 'outputs': {'is_spam': False}}, {'inputs': {'subject': 'Affordable American MBA degree ($180month)', 'body': \"Today more than ever you need to upskill and reskill as the global job market gets increasingly competitive. We hope these payment options will bring down any barriers standing in your way. Nexford prides itself on being the most affordable American university in the world.\\n\\nThe Nexford academic model allows you to finish as fast as you want, and the faster you finish, the less you pay. Our tuition fees are calculated monthly ($180/month for an MBA), so the faster you complete your degree the less the degree will cost you. Most students complete our MBA in an average of 18 months (average total cost $3,240). Some completed in 12 to 14 months.\\n\\nSpecialize in the world's hottest sectors like AI, Data Science, Cybersecurity, E-Commerce, etc. Upon graduation, you'll walk away with a specialization certificate on top of your Master's in Business Administration (MBA) degree.  \\n\\nTo find out more about applying to Nexford University, or anything else, sign up and we will be in touch with you.\\n\\nNexford University is accredited by the Distance Education Accrediting Commission (DEAC). The DEAC is listed by the U.S. Department of Education as a recognized accrediting agency and is recognized by the Council for Higher Education Accreditation (CHEA)\\n\\nSo what are you waiting for? Join a next-generation university today.\"}, 'outputs': {'is_spam': True}}, {'inputs': {'subject': 'Q2 Markets and Products Updates', 'body': \"Kenya's macroeconomic condition still remains challenging due to ongoing inflationary pressures and the shilling's continuous depreciation.\\n\\nJoin Our analysts, Samuel Ochieng and Kevin Wekesa, on Monday, July 10, 2023 from 10am to 11am, for a discussion on the current state and outlook of the economy, market performance, and various products offered by Cytonn Investments that address various investment needs.\\n\\nLink: cytonn.com/onlinetraining\\n\\nShould you have any questions kindly email clientservices@cytonn.com or call us 24/7 on 0709101200.\\n\\nKind Regards,\\n\\nCytonn Asset Managers\\n\\n\\n\\n\\n\\nBest Regards,\\n \\nCytonn Client Services Team\"}, 'outputs': {'is_spam': False}}, {'inputs': {'subject': 'Update on your application at Lemon Recruiting.', 'body': 'Dear John Ondieki Motachwa,\\n\\nThank you for your application as Image Labeler / Data Annotator, 60-100%, Kenya (Remote).\\n\\nUnfortunately, your profile does not optimally match the advertised position. We wish you all the best and every success in your job search!\\n\\nBest regards\\n\\nAlain Mazenauer\\nLemon Recruiting'}, 'outputs': {'is_spam': False}}, {'inputs': {'subject': 'Are you a luxury traveller or know someone who is??', 'body': \"View in browser\\n\\nAre you a luxury traveller or know someone who is?\\nWe have a task for you on our platform. Don't miss out on your last chance to complete this task!\\n\\n $10\\n 12.July.23\\n 10 mins\\nYou may interview a friend/contact from the US, France, South Korea, UAE and Japan who is a luxury traveller with a salary higher than $150,000 or the equivalent, or you may cold call luxury travel companies and interview their affluent customers. \\n\\nThink you're a good match?\\nComplete the survey today!\\n\\nGo to task \\n?\\nAvailable on\\n\\n\\nGreat\\n\\n\\nbased on 342 reviews\\n\\n\\n\\n\\n\\n\\nCopyright � 2023 GrapeData. All rights reserved.\\n\\nPrivacy Policy | Terms of use | Contact\\n\\nWant to change how you receive these emails?\\n\\nUnsubscribe from this list \\n\\nGrapeData Limited (�GrapeData�) is incorporated in England and Wales under company number 11187265. GrapeData�s registered address is 1 Waterhouse Square, London, EC1N 2ST\\n\\n\\n\\n\\n\"}, 'outputs': {'is_spam': False}}]}\n"
     ]
    }
   ],
   "source": [
    "dataset = load_email_spam_dataset()\n",
    "print(dataset)"
   ]
  },
  {
   "cell_type": "markdown",
   "id": "cf96f9a0",
   "metadata": {
    "slideshow": {
     "slide_type": "slide"
    }
   },
   "source": [
    "#### Spam Classifier - Task\n",
    "- **Inputs:** subject (str), body (str)\n",
    "- **Outputs:** is_spam (bool)"
   ]
  },
  {
   "cell_type": "code",
   "execution_count": 7,
   "id": "61045502",
   "metadata": {
    "slideshow": {
     "slide_type": "fragment"
    }
   },
   "outputs": [],
   "source": [
    "def spam_classifier(subject=None, body=None):  \n",
    "    outputs = {}\n",
    "\n",
    "    # obviously, this is not good\n",
    "    outputs['is_spam'] = False\n",
    "    \n",
    "    return outputs"
   ]
  },
  {
   "cell_type": "markdown",
   "id": "64f93011",
   "metadata": {
    "slideshow": {
     "slide_type": "slide"
    }
   },
   "source": [
    "#### Spam Classifier - Metrics\n",
    "    - Accuracy"
   ]
  },
  {
   "cell_type": "code",
   "execution_count": 8,
   "id": "5d642782",
   "metadata": {
    "slideshow": {
     "slide_type": "fragment"
    }
   },
   "outputs": [],
   "source": [
    "def accuracy_metric(predictions=None, references=None):\n",
    "    if not predictions:\n",
    "        raise ValueError(\"Must supply predictions\")\n",
    "        \n",
    "    if not references:\n",
    "        raise ValueError(\"Must supply references\")\n",
    "        \n",
    "    if len(predictions)!=len(references):\n",
    "        raise ValueError(\"Length of predictions must match number of references\")\n",
    "        \n",
    "    correct = 0\n",
    "    total = len(references)\n",
    "    \n",
    "    for prediction, reference in zip(predictions, references):\n",
    "        if prediction == reference:\n",
    "            correct += 1\n",
    "            \n",
    "    score = (correct * 1.0) / total\n",
    "    \n",
    "    return score"
   ]
  },
  {
   "cell_type": "code",
   "execution_count": 9,
   "id": "05ac29c7",
   "metadata": {
    "slideshow": {
     "slide_type": "slide"
    }
   },
   "outputs": [
    {
     "name": "stdout",
     "output_type": "stream",
     "text": [
      "0.75\n"
     ]
    }
   ],
   "source": [
    "# let's test out the accuracy metric\n",
    "pretend_predictions = [1, 1, 1, 0] \n",
    "pretend_references = [1, 1, 0, 0]\n",
    "accuracy_score = accuracy_metric(predictions=pretend_predictions, references=pretend_references)\n",
    "print(accuracy_score)"
   ]
  },
  {
   "cell_type": "markdown",
   "id": "c3f1bec7",
   "metadata": {
    "slideshow": {
     "slide_type": "slide"
    }
   },
   "source": [
    "#### Spam Classifier - Evaluation Loop (Hand-rolled)\n",
    "\n",
    "We need a pipeline for processing all examples and crunching metrics"
   ]
  },
  {
   "cell_type": "code",
   "execution_count": 10,
   "id": "2a694e0c",
   "metadata": {
    "slideshow": {
     "slide_type": "fragment"
    }
   },
   "outputs": [
    {
     "name": "stdout",
     "output_type": "stream",
     "text": [
      "`is_spam` accuracy score: 0.6865671641791045\n"
     ]
    }
   ],
   "source": [
    "# this is a basic implementation of an evaluation loop\n",
    "predictions = []\n",
    "references = []\n",
    "\n",
    "for sample in dataset['train']:\n",
    "    sample_inputs = sample['inputs']\n",
    "    sample_outputs = sample['outputs']\n",
    "    \n",
    "    prediction = spam_classifier(**sample_inputs)\n",
    "    \n",
    "    predictions.append(prediction)\n",
    "    references.append(sample_outputs)\n",
    "\n",
    "    \n",
    "# compute accuracy for `is_spam`\n",
    "is_spam_predictions = [prediction['is_spam'] for prediction in predictions]\n",
    "is_spam_references = [reference['is_spam'] for reference in references]\n",
    "is_spam_accuracy_score = accuracy_metric(predictions=is_spam_predictions, references=is_spam_references)\n",
    "print(f\"`is_spam` accuracy score: {is_spam_accuracy_score}\")"
   ]
  },
  {
   "cell_type": "markdown",
   "id": "142d74c0",
   "metadata": {
    "slideshow": {
     "slide_type": "slide"
    }
   },
   "source": [
    "#### Spam Classifier - Evaluation Loop (Advanced)\n",
    "\n",
    "We need to optimize for getting fast feedback and making it easy to experiment:\n",
    "- all important code in one place, easily understandable\n",
    "- start on a tiny subset of the data (10 examples)\n",
    "- be able to visualize where we go wrong\n",
    "- evaluation-driven development"
   ]
  },
  {
   "cell_type": "code",
   "execution_count": 13,
   "id": "bc16eb93",
   "metadata": {
    "slideshow": {
     "slide_type": "slide"
    }
   },
   "outputs": [
    {
     "data": {
      "text/html": [
       "<div>\n",
       "<style scoped>\n",
       "    .dataframe tbody tr th:only-of-type {\n",
       "        vertical-align: middle;\n",
       "    }\n",
       "\n",
       "    .dataframe tbody tr th {\n",
       "        vertical-align: top;\n",
       "    }\n",
       "\n",
       "    .dataframe thead th {\n",
       "        text-align: right;\n",
       "    }\n",
       "</style>\n",
       "<table border=\"1\" class=\"dataframe\">\n",
       "  <thead>\n",
       "    <tr style=\"text-align: right;\">\n",
       "      <th></th>\n",
       "      <th>accuracy</th>\n",
       "    </tr>\n",
       "  </thead>\n",
       "  <tbody>\n",
       "    <tr>\n",
       "      <th>is_spam</th>\n",
       "      <td>0.6</td>\n",
       "    </tr>\n",
       "  </tbody>\n",
       "</table>\n",
       "</div>"
      ],
      "text/plain": [
       "         accuracy\n",
       "is_spam       0.6"
      ]
     },
     "metadata": {},
     "output_type": "display_data"
    },
    {
     "data": {
      "text/html": [
       "<div>\n",
       "<style scoped>\n",
       "    .dataframe tbody tr th:only-of-type {\n",
       "        vertical-align: middle;\n",
       "    }\n",
       "\n",
       "    .dataframe tbody tr th {\n",
       "        vertical-align: top;\n",
       "    }\n",
       "\n",
       "    .dataframe thead th {\n",
       "        text-align: right;\n",
       "    }\n",
       "</style>\n",
       "<table border=\"1\" class=\"dataframe\">\n",
       "  <thead>\n",
       "    <tr style=\"text-align: right;\">\n",
       "      <th></th>\n",
       "      <th>exact_match_is_spam</th>\n",
       "      <th>prediction_is_spam</th>\n",
       "      <th>target_is_spam</th>\n",
       "      <th>input_subject</th>\n",
       "      <th>input_body</th>\n",
       "    </tr>\n",
       "  </thead>\n",
       "  <tbody>\n",
       "    <tr>\n",
       "      <th>0</th>\n",
       "      <td>True</td>\n",
       "      <td>False</td>\n",
       "      <td>False</td>\n",
       "      <td>June 2023 Account Statement</td>\n",
       "      <td>Dear Mr. UZOCHUKWU JOSEPH EZE,\\n\\nYour statement of account for June 2023 is now available (see attached).\\n\\nPlease note that the password required to access your account statement(s) is your default (main) account number.\\n\\n\\nFor any feedback or enquiries, please call our multilingual Contact Center on 01-2712005-7 or send an email to contactcenter@accessbankplc.com\\n\\nThank you for choosing Access Bank\\n\\n\\nYou can still register for your Bank Verification Number (BVN) at all our branche...</td>\n",
       "    </tr>\n",
       "    <tr>\n",
       "      <th>1</th>\n",
       "      <td>False</td>\n",
       "      <td>False</td>\n",
       "      <td>True</td>\n",
       "      <td>Live has arrived on TIDAL ??</td>\n",
       "      <td>Where Live Happens ??\\nThe Live party is just getting started. Get HiFi or HiFi Plus to join your fave DJs, celebs, music fans, and our TIDAL music experts on Live.</td>\n",
       "    </tr>\n",
       "    <tr>\n",
       "      <th>2</th>\n",
       "      <td>True</td>\n",
       "      <td>False</td>\n",
       "      <td>False</td>\n",
       "      <td>UPDATE ON STOCK</td>\n",
       "      <td>Dear sir,\\nPlease, I would like to inform you that stock of one of our main products is at a critical level. There is therefore the need for a restocking\\nWarmest regards\\nThanks</td>\n",
       "    </tr>\n",
       "    <tr>\n",
       "      <th>3</th>\n",
       "      <td>True</td>\n",
       "      <td>False</td>\n",
       "      <td>False</td>\n",
       "      <td>TV LISENCE</td>\n",
       "      <td>Dear Sir/ Madam\\n\\nI have been receiving sms from the TV licence saying I am owing.\\nI don't remember registering for TV lisence and also I don't own a TV. Neither am I working.\\n\\nPlease fix the issue. I don't really know what is going on.\\n\\nYours sincerely\\nShocky \\n</td>\n",
       "    </tr>\n",
       "    <tr>\n",
       "      <th>4</th>\n",
       "      <td>False</td>\n",
       "      <td>False</td>\n",
       "      <td>True</td>\n",
       "      <td>Hello lun New message from PhebeHotHoney</td>\n",
       "      <td>Adult Dating\\n\\nDiscover the best site for singles looking for love!\\n\\n??\\nI hope you're the right person I'm looking for, because since I've become single I miss the company of a man in my bed.\\n</td>\n",
       "    </tr>\n",
       "    <tr>\n",
       "      <th>5</th>\n",
       "      <td>False</td>\n",
       "      <td>False</td>\n",
       "      <td>True</td>\n",
       "      <td>10-1 MLB Expert Inside, Plus Everything You Need To Have A BLOCKBUSTER Saturday</td>\n",
       "      <td>Hey Prachanda Rawal,\\n\\nToday's newsletter is Jam-Packed with everything you need to have a BLOCKBUSTER day, including an Insider Play, video picks, two Spotlight games, and Special Insider Deals. Just our way of saying thanks for being an Insider, so strap in, and let's have a GREAT Saturday.   \\n____________________________________________\\nExpert Of The Day - Andre' IFill\\n\\nAndre \"The Tower\" Ifill is on another Strong MLB and he will keep it rolling today. Andre comes in off a perfect 5-...</td>\n",
       "    </tr>\n",
       "    <tr>\n",
       "      <th>6</th>\n",
       "      <td>True</td>\n",
       "      <td>False</td>\n",
       "      <td>False</td>\n",
       "      <td>Update on your application at Lemon Recruiting.</td>\n",
       "      <td>Dear John Ondieki Motachwa,\\n\\nThank you for your application as Image Labeler / Data Annotator, 60-100%, Kenya (Remote).\\n\\nUnfortunately, your profile does not optimally match the advertised position. We wish you all the best and every success in your job search!\\n\\nBest regards\\n\\nAlain Mazenauer\\nLemon Recruiting</td>\n",
       "    </tr>\n",
       "    <tr>\n",
       "      <th>7</th>\n",
       "      <td>True</td>\n",
       "      <td>False</td>\n",
       "      <td>False</td>\n",
       "      <td>Not Satisfied with the Reward</td>\n",
       "      <td>Hi,\\n\\nI have gave so many contributions for the development of BARD. But I haven't received 1000 INR itself. I got only 200 INR. So please reward me atleast 1000 INR. BECAUSE I contributed many good stuffs for developing bard.\\n\\nIf you have any kind of doubts, just recheck my\\nBard usage details.\\n\\nThanks :)</td>\n",
       "    </tr>\n",
       "    <tr>\n",
       "      <th>8</th>\n",
       "      <td>True</td>\n",
       "      <td>False</td>\n",
       "      <td>False</td>\n",
       "      <td>Sathya!, welcome to Snapchat+!</td>\n",
       "      <td>As a Snapchat+ subscriber, you now have access to exclusive features that'll allow you to experience Snapchat in a whole new way.\\n\\nYour monthly Snapchat+ plan is set to renew on July 6, 2023 UTC. Payment will automatically be charged to your Play Store account every 1 month unless you cancel before the renewal date.\\n\\nYou can cancel or change your subscription anytime by going to your Play Store settings.\\n\\nSnapchat+ Subscription Terms apply https://www.snap.com/terms/snapchatplus. If th...</td>\n",
       "    </tr>\n",
       "    <tr>\n",
       "      <th>9</th>\n",
       "      <td>False</td>\n",
       "      <td>False</td>\n",
       "      <td>True</td>\n",
       "      <td>Yes- it is a numbers game</td>\n",
       "      <td>Hey Prachanda,\\n \\nToday's video... To build your biz - \"It is a numbers game\"\\n==&gt; Listen in Here \\n  \\nTo Your Success \\n \\nRyan Gunness \\nMLM Recruit On Demand ==&gt; \"Spoon Fed Marketing\"\\n</td>\n",
       "    </tr>\n",
       "  </tbody>\n",
       "</table>\n",
       "</div>"
      ],
      "text/plain": [
       "   exact_match_is_spam  prediction_is_spam  target_is_spam  \\\n",
       "0                 True               False           False   \n",
       "1                False               False            True   \n",
       "2                 True               False           False   \n",
       "3                 True               False           False   \n",
       "4                False               False            True   \n",
       "5                False               False            True   \n",
       "6                 True               False           False   \n",
       "7                 True               False           False   \n",
       "8                 True               False           False   \n",
       "9                False               False            True   \n",
       "\n",
       "                                                                     input_subject  \\\n",
       "0                                                     June 2023 Account Statement    \n",
       "1                                                     Live has arrived on TIDAL ??   \n",
       "2                                                                 UPDATE ON STOCK    \n",
       "3                                                                      TV LISENCE    \n",
       "4                                         Hello lun New message from PhebeHotHoney   \n",
       "5  10-1 MLB Expert Inside, Plus Everything You Need To Have A BLOCKBUSTER Saturday   \n",
       "6                                  Update on your application at Lemon Recruiting.   \n",
       "7                                                    Not Satisfied with the Reward   \n",
       "8                                                   Sathya!, welcome to Snapchat+!   \n",
       "9                                                        Yes- it is a numbers game   \n",
       "\n",
       "                                                                                                                                                                                                                                                                                                                                                                                                                                                                                                            input_body  \n",
       "0  Dear Mr. UZOCHUKWU JOSEPH EZE,\\n\\nYour statement of account for June 2023 is now available (see attached).\\n\\nPlease note that the password required to access your account statement(s) is your default (main) account number.\\n\\n\\nFor any feedback or enquiries, please call our multilingual Contact Center on 01-2712005-7 or send an email to contactcenter@accessbankplc.com\\n\\nThank you for choosing Access Bank\\n\\n\\nYou can still register for your Bank Verification Number (BVN) at all our branche...  \n",
       "1                                                                                                                                                                                                                                                                                                                                                 Where Live Happens ??\\nThe Live party is just getting started. Get HiFi or HiFi Plus to join your fave DJs, celebs, music fans, and our TIDAL music experts on Live.  \n",
       "2                                                                                                                                                                                                                                                                                                                                   Dear sir,\\nPlease, I would like to inform you that stock of one of our main products is at a critical level. There is therefore the need for a restocking\\nWarmest regards\\nThanks  \n",
       "3                                                                                                                                                                                                                                       Dear Sir/ Madam\\n\\nI have been receiving sms from the TV licence saying I am owing.\\nI don't remember registering for TV lisence and also I don't own a TV. Neither am I working.\\n\\nPlease fix the issue. I don't really know what is going on.\\n\\nYours sincerely\\nShocky \\n  \n",
       "4                                                                                                                                                                                                                                                                                                                Adult Dating\\n\\nDiscover the best site for singles looking for love!\\n\\n??\\nI hope you're the right person I'm looking for, because since I've become single I miss the company of a man in my bed.\\n  \n",
       "5  Hey Prachanda Rawal,\\n\\nToday's newsletter is Jam-Packed with everything you need to have a BLOCKBUSTER day, including an Insider Play, video picks, two Spotlight games, and Special Insider Deals. Just our way of saying thanks for being an Insider, so strap in, and let's have a GREAT Saturday.   \\n____________________________________________\\nExpert Of The Day - Andre' IFill\\n\\nAndre \"The Tower\" Ifill is on another Strong MLB and he will keep it rolling today. Andre comes in off a perfect 5-...  \n",
       "6                                                                                                                                                                                       Dear John Ondieki Motachwa,\\n\\nThank you for your application as Image Labeler / Data Annotator, 60-100%, Kenya (Remote).\\n\\nUnfortunately, your profile does not optimally match the advertised position. We wish you all the best and every success in your job search!\\n\\nBest regards\\n\\nAlain Mazenauer\\nLemon Recruiting  \n",
       "7                                                                                                                                                                                             Hi,\\n\\nI have gave so many contributions for the development of BARD. But I haven't received 1000 INR itself. I got only 200 INR. So please reward me atleast 1000 INR. BECAUSE I contributed many good stuffs for developing bard.\\n\\nIf you have any kind of doubts, just recheck my\\nBard usage details.\\n\\nThanks :)  \n",
       "8  As a Snapchat+ subscriber, you now have access to exclusive features that'll allow you to experience Snapchat in a whole new way.\\n\\nYour monthly Snapchat+ plan is set to renew on July 6, 2023 UTC. Payment will automatically be charged to your Play Store account every 1 month unless you cancel before the renewal date.\\n\\nYou can cancel or change your subscription anytime by going to your Play Store settings.\\n\\nSnapchat+ Subscription Terms apply https://www.snap.com/terms/snapchatplus. If th...  \n",
       "9                                                                                                                                                                                                                                                                                                                      Hey Prachanda,\\n \\nToday's video... To build your biz - \"It is a numbers game\"\\n==> Listen in Here \\n  \\nTo Your Success \\n \\nRyan Gunness \\nMLM Recruit On Demand ==> \"Spoon Fed Marketing\"\\n   "
      ]
     },
     "metadata": {},
     "output_type": "display_data"
    },
    {
     "ename": "AssertionError",
     "evalue": "`is_spam` accuracy must be greater than or equal to 0.9 on the 'train' set",
     "output_type": "error",
     "traceback": [
      "\u001b[1;31m---------------------------------------------------------------------------\u001b[0m",
      "\u001b[1;31mAssertionError\u001b[0m                            Traceback (most recent call last)",
      "Cell \u001b[1;32mIn[13], line 37\u001b[0m\n\u001b[0;32m     34\u001b[0m results \u001b[38;5;241m=\u001b[39m evaluate(spam_classifier, dataset\u001b[38;5;241m=\u001b[39mdataset, split\u001b[38;5;241m=\u001b[39m\u001b[38;5;124m\"\u001b[39m\u001b[38;5;124mtrain\u001b[39m\u001b[38;5;124m\"\u001b[39m, limit\u001b[38;5;241m=\u001b[39m\u001b[38;5;241m10\u001b[39m, metrics\u001b[38;5;241m=\u001b[39mmetrics, debug\u001b[38;5;241m=\u001b[39m\u001b[38;5;28;01mTrue\u001b[39;00m)\n\u001b[0;32m     36\u001b[0m \u001b[38;5;66;03m# Validate model performance\u001b[39;00m\n\u001b[1;32m---> 37\u001b[0m \u001b[38;5;28;01massert\u001b[39;00m results[\u001b[38;5;124m'\u001b[39m\u001b[38;5;124mis_spam\u001b[39m\u001b[38;5;124m'\u001b[39m][\u001b[38;5;124m'\u001b[39m\u001b[38;5;124maccuracy\u001b[39m\u001b[38;5;124m'\u001b[39m] \u001b[38;5;241m>\u001b[39m\u001b[38;5;241m=\u001b[39m \u001b[38;5;241m0.9\u001b[39m, \u001b[38;5;124m\"\u001b[39m\u001b[38;5;124m`is_spam` accuracy must be greater than or equal to 0.9 on the \u001b[39m\u001b[38;5;124m'\u001b[39m\u001b[38;5;124mtrain\u001b[39m\u001b[38;5;124m'\u001b[39m\u001b[38;5;124m set\u001b[39m\u001b[38;5;124m\"\u001b[39m\n",
      "\u001b[1;31mAssertionError\u001b[0m: `is_spam` accuracy must be greater than or equal to 0.9 on the 'train' set"
     ]
    }
   ],
   "source": [
    "from utils.example_data import load_email_spam_dataset\n",
    "from utils.evaluation import evaluate\n",
    "from utils.openai import chat_completion\n",
    "\n",
    "def spam_classifier(subject=None, body=None):  \n",
    "    outputs = {}\n",
    "    \n",
    "    # run through gpt prompt\n",
    "    # ...\n",
    "    prompt = \"asdlfasdlkf\"\n",
    "    \n",
    "    response = chat_completion(\"???\", prompt=prompt)\n",
    "    \n",
    "    # post-process\n",
    "    # ...\n",
    "    \n",
    "    # set outputs, change this obv\n",
    "    is_spam = False\n",
    "    \n",
    "    outputs['is_spam'] = is_spam\n",
    "    # return\n",
    "    return outputs\n",
    "\n",
    "\n",
    "# Load dataset\n",
    "dataset = load_email_spam_dataset()\n",
    "\n",
    "# Define important metrics\n",
    "metrics = {\n",
    "    \"accuracy\": {\n",
    "        \"function\": accuracy_metric,\n",
    "        \"only\": [\"is_spam\"]\n",
    "    }\n",
    "}\n",
    "\n",
    "# Perform batch evaluation\n",
    "results = evaluate(spam_classifier, dataset=dataset, split=\"train\", limit=10, metrics=metrics, debug=True)\n",
    "\n",
    "# Validate model performance\n",
    "assert results['is_spam']['accuracy'] >= 0.9, \"`is_spam` accuracy must be greater than or equal to 0.9 on the 'train' set\""
   ]
  },
  {
   "cell_type": "markdown",
   "id": "65939d7e",
   "metadata": {
    "slideshow": {
     "slide_type": "slide"
    }
   },
   "source": [
    "## Exercise 1: Complete the `spam_classifier` function above using GPT-3.5-turbo."
   ]
  },
  {
   "cell_type": "markdown",
   "id": "0c5edf07",
   "metadata": {
    "slideshow": {
     "slide_type": "slide"
    }
   },
   "source": [
    "## Exercise 2: Create a working Gradio interface for using your model"
   ]
  },
  {
   "cell_type": "markdown",
   "id": "297b28e2",
   "metadata": {},
   "source": [
    "Tips:\n",
    "- use `gr.Textbox` for text entry\n",
    "- you can add more lines to a textbox, for example `gr.Textbox(label=\"Big Box\", lines=10)`\n",
    "- add helpful labels to every input for user-friendliness\n",
    "- you can make a Textbox non-editable by users by making it non-interactive, check the Gradio docs"
   ]
  },
  {
   "cell_type": "code",
   "execution_count": null,
   "id": "95a3df6e",
   "metadata": {},
   "outputs": [],
   "source": [
    "# here is a hello world gradio application\n",
    "import gradio as gr\n",
    "\n",
    "def greet(name=\"Nameless\"):\n",
    "    greeting = f\"Hello, {name}\"\n",
    "    return greeting\n",
    "    \n",
    "\n",
    "with gr.Blocks() as app:\n",
    "    name = gr.Textbox(label=\"Name\")\n",
    "    btn = gr.Button(value=\"Submit\")\n",
    "    greeting = gr.Textbox(label=\"Greeting\")\n",
    "\n",
    "    btn.click(\n",
    "        greet,\n",
    "        inputs=[name],\n",
    "        outputs=[greeting],\n",
    "    )\n",
    "\n",
    "app.launch()\n"
   ]
  },
  {
   "cell_type": "code",
   "execution_count": null,
   "id": "2f3fc4d8",
   "metadata": {},
   "outputs": [],
   "source": []
  }
 ],
 "metadata": {
  "celltoolbar": "Slideshow",
  "kernelspec": {
   "display_name": "Python 3 (ipykernel)",
   "language": "python",
   "name": "python3"
  },
  "language_info": {
   "codemirror_mode": {
    "name": "ipython",
    "version": 3
   },
   "file_extension": ".py",
   "mimetype": "text/x-python",
   "name": "python",
   "nbconvert_exporter": "python",
   "pygments_lexer": "ipython3",
   "version": "3.9.6"
  }
 },
 "nbformat": 4,
 "nbformat_minor": 5
}
